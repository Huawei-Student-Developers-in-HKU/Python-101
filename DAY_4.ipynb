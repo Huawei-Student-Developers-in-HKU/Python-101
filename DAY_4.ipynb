{
  "nbformat": 4,
  "nbformat_minor": 0,
  "metadata": {
    "colab": {
      "provenance": []
    },
    "kernelspec": {
      "name": "python3",
      "display_name": "Python 3"
    },
    "language_info": {
      "name": "python"
    }
  },
  "cells": [
    {
      "cell_type": "markdown",
      "source": [
        "# While Döngüsü\n",
        "\n",
        "````\n",
        "while eşitlik:\n",
        "  ...\n",
        "  işlem\n",
        "  ...\n",
        "````\n",
        "\n",
        "While anahtar kelimesi Python ile oluşturabileceğimiz döngü tiplerinden ilkini oluşturmamızı sağlıyor. while yanında belirttiğimiz eşitlik sağlandığı sürece yani True değeri döndürdüğü sürece döngü kapanmadan çalışmaya devam ediyor. Çalıştığı sürece de içerisine tanımlı olan işlemleri sırası ile yapıp başa dönüyor.\n",
        "\n",
        "Örnek verecek olursak bir a değişkeni tanımlayalım ve değeri 0 olsun. Bu a değerine bağlı bir while döngüsü açalım ve a değeri 10'dan küçük olduğu sürece a değerini yazdıralım ve 1 arttıralım."
      ],
      "metadata": {
        "id": "c21cb6MqGWIW"
      }
    },
    {
      "cell_type": "code",
      "source": [
        "a = 0\n",
        "\n",
        "while a < 10:\n",
        "  print(a)\n",
        "  a+=1 # a=a+1"
      ],
      "metadata": {
        "colab": {
          "base_uri": "https://localhost:8080/"
        },
        "id": "8TKMZkCTHXak",
        "outputId": "01c46ae4-4c48-44ab-b170-fa5a35be596e"
      },
      "execution_count": 1,
      "outputs": [
        {
          "output_type": "stream",
          "name": "stdout",
          "text": [
            "0\n",
            "1\n",
            "2\n",
            "3\n",
            "4\n",
            "5\n",
            "6\n",
            "7\n",
            "8\n",
            "9\n"
          ]
        }
      ]
    },
    {
      "cell_type": "markdown",
      "source": [
        "Şimdi işe bir program hazırlayalım. 100 sayısına kdar olan tek ve çift sayıları tek-çift şeklinde yazdıran bir program hazırlayalım."
      ],
      "metadata": {
        "id": "9fpC6SAUHnx8"
      }
    },
    {
      "cell_type": "code",
      "source": [
        "x = 0\n",
        "while x <= 100:\n",
        "    if x % 2==1:\n",
        "        print('sayı tek: {}'.format(x))\n",
        "    else:\n",
        "        print('sayı çift: {}'.format(x))\n",
        "    x += 1\n",
        "\n",
        "print('bitti...')"
      ],
      "metadata": {
        "id": "Kqf_CU1WH1TA"
      },
      "execution_count": null,
      "outputs": []
    },
    {
      "cell_type": "markdown",
      "source": [
        "<b>TASK :: </b> Şimdi sizlerde 100'e kadar olan değerleri farklı listelerde depolayın ve döngü sonunda yazdırın."
      ],
      "metadata": {
        "id": "odFmkMY6H9m0"
      }
    },
    {
      "cell_type": "code",
      "source": [
        "# Döngünün dışı - öncesi\n",
        "odd = []\n",
        "even = []\n",
        "\n",
        "x = 0\n",
        "while x <= 100:\n",
        "  # Döngünün içi\n",
        "    if x % 2==1:\n",
        "        odd.append(x)\n",
        "    else:\n",
        "        even.append(x)\n",
        "    x += 1\n",
        "\n",
        "# Döngünün dışı - sonrası\n",
        "print(odd)\n",
        "print(even)"
      ],
      "metadata": {
        "id": "jAV0XArKH9Rw"
      },
      "execution_count": null,
      "outputs": []
    },
    {
      "cell_type": "markdown",
      "source": [
        "while yanına yazdılan eşitlik sağlandığı yani True değeri döndürdüğü sürece döngü devam eder demiştik. O zaman eşitlik yerine True değeri yazarak sonsuza kadar devam edebilecek bir liste oluşturabiliriz.\n",
        "\n",
        "````\n",
        "while True: # sonsuz döngü\n",
        "  print(\"Hello World !\")\n",
        "\n",
        "````\n",
        "Ben burada bunun örneğini göstermeyeceğim. Ama sizler kendi makinalarınızda bu kodu çalıştırarak sounucunu görebilirsiniz.\n",
        "\n",
        "Sonsuz döngüler genelde istenilen işlemin ne zaman olacağını bilmediğimiz zamanlarda, menü hazırlarken veya programın durdurluna kadar belirli işlemleri yapmasını istediğimiz durumlarda (bilgisayra oyunları) zamanlarda kullanılır. İşte gerekli şartlar sağlanınca sonsuz döngünün (her hangi bir döngü de olur) durması için ``break`` komutu kullanılır. \n",
        "\n",
        "Örneğin bir güvenlik sistemi düşünün. Kullanıcı username ve password değerlerini doğru girene kadar sormaya devam eden bir program. Doğru girildiğinde ise sonlanacak bir program."
      ],
      "metadata": {
        "id": "6HkglyeKIf8K"
      }
    },
    {
      "cell_type": "code",
      "source": [
        "while True:\n",
        "  username = input(\"Lütfen kullanıcı adınızı girin : \")\n",
        "  password = input(\"Lütfen şifrenizi girin : \")\n",
        "\n",
        "  if username == \"HSD\" and password == \"HKU\":\n",
        "    print(\"Giriş başarılı\")\n",
        "    break"
      ],
      "metadata": {
        "id": "uNEWDUZFKURc"
      },
      "execution_count": null,
      "outputs": []
    },
    {
      "cell_type": "markdown",
      "source": [
        "Şimdi bu programı biraz daha realist hale getirelim. Kullanıcı belirli sayıda yanlış giriş yaptığında program kullanıcı giriş yapamadan sonlansın."
      ],
      "metadata": {
        "id": "Mau8jCGcKwfC"
      }
    },
    {
      "cell_type": "code",
      "source": [
        "cnt = 0\n",
        "while True:\n",
        "  username = input(\"Lütfen kullanıcı adınızı girin : \")\n",
        "  password = input(\"Lütfen şifrenizi girin : \")\n",
        "\n",
        "  if username == \"HSD\" and password == \"HKU\":\n",
        "    print(\"Giriş başarılı\")\n",
        "    break\n",
        "  \n",
        "  cnt += 1\n",
        "\n",
        "  if cnt == 5:\n",
        "    print(\"Çok fazla hatalı deneme\")\n",
        "    break"
      ],
      "metadata": {
        "id": "jCc2hR1uLCLM"
      },
      "execution_count": null,
      "outputs": []
    },
    {
      "cell_type": "markdown",
      "source": [
        "Tabiki bu programda farklı şekillerde yazılabilir. Eğer yazdığınız program çalışıyor ise bir problem yok. \n",
        "\n",
        "Döngüler ile kullanılan bir diğer komut ise ``continue`` komutudur. Ne işe yaradığını kendiniz anlayabilir misini ?"
      ],
      "metadata": {
        "id": "iYIwrkDOLLkA"
      }
    },
    {
      "cell_type": "code",
      "source": [
        "x = 0\n",
        "\n",
        "while x<10:\n",
        "  x+=1\n",
        "\n",
        "  if x == 7:\n",
        "    continue\n",
        "\n",
        "  print(x)"
      ],
      "metadata": {
        "colab": {
          "base_uri": "https://localhost:8080/"
        },
        "id": "nc4_9ug_LbS3",
        "outputId": "7161c078-121b-46e6-abfb-d226de7b7710"
      },
      "execution_count": 2,
      "outputs": [
        {
          "output_type": "stream",
          "name": "stdout",
          "text": [
            "1\n",
            "2\n",
            "3\n",
            "4\n",
            "5\n",
            "6\n",
            "8\n",
            "9\n",
            "10\n"
          ]
        }
      ]
    },
    {
      "cell_type": "markdown",
      "source": [
        "Yukarıdaki örnekte görebileceğiniz gibi 7 rakamı yazdırılmadı. Peki neden ?\n",
        "Döngüyü biraz açacak olurdak üç ana kısımdan oluşuyor. İlk kısım x değerini 1 arttıryor. İkinci kısım x değişkenin değeri 7 ise ``continue`` komutunu veriyor. Üçüncü ve son kısımda ise x değeri yazdırılıyor. Ama bizim elde ettiğimiz sonuçta 7 değeri yazdırılmadı. \n",
        "\n",
        "Bu sonucun doğru yorumu continue komutu kendisinden sonra gelen komutları işleme sokamdan döngünün başına dönüyor olur. x değişkenin değeri 7 olduktan sonra continue komutu çalıştı ve kendisinden sonra gelen print() işlemini atlayarak başa döndü ve x değişkeninin değerini 1 arttırarak devam etti."
      ],
      "metadata": {
        "id": "tI-l8G3wLllW"
      }
    }
  ]
}