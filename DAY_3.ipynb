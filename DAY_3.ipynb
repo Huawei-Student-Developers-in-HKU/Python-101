{
  "nbformat": 4,
  "nbformat_minor": 0,
  "metadata": {
    "colab": {
      "provenance": [],
      "collapsed_sections": [],
      "toc_visible": true
    },
    "kernelspec": {
      "name": "python3",
      "display_name": "Python 3"
    },
    "language_info": {
      "name": "python"
    }
  },
  "cells": [
    {
      "cell_type": "markdown",
      "source": [
        "# Listeler "
      ],
      "metadata": {
        "id": "vCiY0hjWtSZd"
      }
    },
    {
      "cell_type": "markdown",
      "source": [
        "## Liste Oluşturma ve Temel Özellikler"
      ],
      "metadata": {
        "id": "Uffv1EuSLkni"
      }
    },
    {
      "cell_type": "code",
      "source": [
        "# Liste Oluşturma\n",
        "liste = []"
      ],
      "metadata": {
        "id": "kJYxE08CtR2E"
      },
      "execution_count": null,
      "outputs": []
    },
    {
      "cell_type": "code",
      "source": [
        "# Oluşturulan liste Değişkeninin Tipine Bakalım\n",
        "print(type(liste))"
      ],
      "metadata": {
        "colab": {
          "base_uri": "https://localhost:8080/"
        },
        "id": "RDrnADiILtMt",
        "outputId": "9a32782d-4f28-44f3-ace5-983b4def3576"
      },
      "execution_count": null,
      "outputs": [
        {
          "output_type": "stream",
          "name": "stdout",
          "text": [
            "<class 'list'>\n"
          ]
        }
      ]
    },
    {
      "cell_type": "code",
      "source": [
        "# Oluşturulan liste Değişkeninin Uzunluğuna Bakalım\n",
        "print(len(liste)) # kaç elemanlı ?"
      ],
      "metadata": {
        "colab": {
          "base_uri": "https://localhost:8080/"
        },
        "id": "EjafgVTkReuu",
        "outputId": "cfd2936b-a5a4-4ccd-b81e-d9e4cf494202"
      },
      "execution_count": null,
      "outputs": [
        {
          "output_type": "stream",
          "name": "stdout",
          "text": [
            "0\n"
          ]
        }
      ]
    },
    {
      "cell_type": "code",
      "execution_count": null,
      "metadata": {
        "colab": {
          "base_uri": "https://localhost:8080/"
        },
        "id": "ZkOPM2z6s_gJ",
        "outputId": "bb3c14d8-2e29-449f-f6a2-cccc9cab3832"
      },
      "outputs": [
        {
          "output_type": "stream",
          "name": "stdout",
          "text": [
            "[1, 2, 3, 4, 5]\n"
          ]
        }
      ],
      "source": [
        "# Şimdi yeni bir liste oluşturalım ve içerisinde değer depolayalım\n",
        "liste = [1,2,3,4,5]\n",
        "print(liste)"
      ]
    },
    {
      "cell_type": "code",
      "source": [
        "# Tekrar uzunluğuna, eleman sayısına bakalım\n",
        "print(len(liste))"
      ],
      "metadata": {
        "colab": {
          "base_uri": "https://localhost:8080/"
        },
        "id": "jwGViALiRpfS",
        "outputId": "981609b4-c0f9-402e-f706-6e45661c4f23"
      },
      "execution_count": null,
      "outputs": [
        {
          "output_type": "stream",
          "name": "stdout",
          "text": [
            "5\n"
          ]
        }
      ]
    },
    {
      "cell_type": "code",
      "source": [
        "# Listeler farklı veri tiplerini de eş zamanlı olrak barındırabilirler\n",
        "liste = [\"a\", 7.9, True, 5]\n",
        "print(liste)"
      ],
      "metadata": {
        "colab": {
          "base_uri": "https://localhost:8080/"
        },
        "id": "hoQ0uZrXzcao",
        "outputId": "10456e68-9b35-40ab-d76b-d38865439006"
      },
      "execution_count": null,
      "outputs": [
        {
          "output_type": "stream",
          "name": "stdout",
          "text": [
            "['a', 7.9, True, 5]\n"
          ]
        }
      ]
    },
    {
      "cell_type": "code",
      "source": [
        "# Listedeki bir elemana ulaşmak için \"indeksleme \" kullanılır\n",
        "# Listeler ve tüm saklama veri tiplerinde ilk indeks 0'dır.\n",
        "liste = [1,2,3,4,5]\n",
        "print(liste[0]) # listenin 0 indeksli elemanını yazdır\n",
        "print(liste[1]) # 1 indeksinde bulunan değer\n",
        "print(liste[2]) # 2 indeksinde bulunan değer\n",
        "print(liste[3]) # 3 indeksinde bulunan değer\n",
        "print(liste[4]) # 4 indeksinde bulunan değer"
      ],
      "metadata": {
        "colab": {
          "base_uri": "https://localhost:8080/"
        },
        "id": "4lRu9xQr24gm",
        "outputId": "d2cab34c-01b6-42b0-877e-4f4289f4e0f0"
      },
      "execution_count": null,
      "outputs": [
        {
          "output_type": "stream",
          "name": "stdout",
          "text": [
            "1\n",
            "2\n",
            "3\n",
            "4\n",
            "5\n"
          ]
        }
      ]
    },
    {
      "cell_type": "code",
      "source": [
        "# Listelerde ters indeksleme de vardır\n",
        "# Ters indeksleme de son eleman -1'dir. Başa yaklaştıkça değer küçülür. -1, -2, ...\n",
        "liste = [1,2,3,4,5]\n",
        "print(liste[-1]) # listenin -1 (son) indeksli elemanını yazdır\n",
        "print(liste[-2]) # -2 indeksinde bulunan değer\n",
        "print(liste[-3]) # -3 indeksinde bulunan değer\n",
        "print(liste[-4]) # -4 indeksinde bulunan değer\n",
        "print(liste[-5]) # -5 indeksinde bulunan değer"
      ],
      "metadata": {
        "colab": {
          "base_uri": "https://localhost:8080/"
        },
        "id": "8AEMtAGjMd54",
        "outputId": "17ba74ea-d8dd-44a6-fd2b-0cb6571364b3"
      },
      "execution_count": null,
      "outputs": [
        {
          "output_type": "stream",
          "name": "stdout",
          "text": [
            "5\n",
            "4\n",
            "3\n",
            "2\n",
            "1\n"
          ]
        }
      ]
    },
    {
      "cell_type": "code",
      "source": [
        "# İndeksleme ile listedeki elemanların değerlerini değiştirebilirsiniz\n",
        "liste = [1,2,3,4,5]\n",
        "print(liste[0])\n",
        "liste[0] = \"!\"  # listenin 0 indeksi ! değerine eşit olsun\n",
        "print(liste[0])"
      ],
      "metadata": {
        "colab": {
          "base_uri": "https://localhost:8080/"
        },
        "id": "8ZcL19pSPKVx",
        "outputId": "22e0f5a3-fa44-4378-b6d3-15e4abd37022"
      },
      "execution_count": null,
      "outputs": [
        {
          "output_type": "stream",
          "name": "stdout",
          "text": [
            "1\n",
            "!\n"
          ]
        }
      ]
    },
    {
      "cell_type": "code",
      "source": [
        "# Listeler de iki değer arası tüm değerleri yazdırmak mümkündür. Buna slicing denir.\n",
        "# liste[<alt indeks> : <üst indeks>] #üsr indeks dahil değildir\n",
        "liste = [1,2,3,4,5]\n",
        "print(liste[1:3]) #1. indeksten başla (2) 3. indekse kadar yazdır (4). 3. indeks dahil değildir.\n",
        "\n",
        "# Eğer alt indeks değerini boş bırakırsak listenin başından itibaren alır\n",
        "print(liste[:3])\n",
        "\n",
        "# Eğer üst indeks değerini boş bırakırsak listenin sonuna kadar alır. Son eleman dahil.\n",
        "print(liste[2:])\n",
        "\n",
        "# Eğer üçüncü bir parametre olan -1 değerini eklersek liste ters döner\n",
        "print(liste[::-1])"
      ],
      "metadata": {
        "colab": {
          "base_uri": "https://localhost:8080/"
        },
        "id": "E9L022ikNHqe",
        "outputId": "5004232d-da35-4078-ab94-c442ec7858ec"
      },
      "execution_count": null,
      "outputs": [
        {
          "output_type": "stream",
          "name": "stdout",
          "text": [
            "[2, 3]\n",
            "[1, 2, 3]\n",
            "[3, 4, 5]\n",
            "[5, 4, 3, 2, 1]\n"
          ]
        }
      ]
    },
    {
      "cell_type": "code",
      "source": [
        "## TASK 1 \n",
        "# a listesini ters çevirin ve b listesi olarak kayıt edip ekrana yazdırın\n",
        "\n",
        "a = [1, \"z\", False, 2.5]\n",
        "b = a[::-1]\n",
        "print(b)"
      ],
      "metadata": {
        "colab": {
          "base_uri": "https://localhost:8080/"
        },
        "id": "1NeKwkVuOeiJ",
        "outputId": "731d352b-f27e-47e7-b5de-c827917e29cb"
      },
      "execution_count": null,
      "outputs": [
        {
          "output_type": "stream",
          "name": "stdout",
          "text": [
            "[2.5, False, 'z', 1]\n"
          ]
        }
      ]
    },
    {
      "cell_type": "code",
      "source": [
        "# Slicing işlemini negatif olarakta yapabiliriz. \n",
        "liste = [1,2,3,4,5]\n",
        "print(liste[-3:-1]) # detaylarını siz çözersiniz"
      ],
      "metadata": {
        "colab": {
          "base_uri": "https://localhost:8080/"
        },
        "id": "JY3chczbOvMQ",
        "outputId": "1755d14f-88a1-4980-fc79-ca51a5295abd"
      },
      "execution_count": null,
      "outputs": [
        {
          "output_type": "stream",
          "name": "stdout",
          "text": [
            "[3, 4]\n"
          ]
        }
      ]
    },
    {
      "cell_type": "code",
      "source": [
        "# Listeler kendi içlerinde de listeler tutabilir tıpkı aşağıdaki gibi\n",
        "liste = [1,2,[\"a\",\"b\"],6]\n",
        "# içerdeki listeyi liste2 olarak kodlayalım\n",
        "# liste içindeki listeden eleman çağırma aşağıdaki gibidir\n",
        "print(liste[2][0])\n",
        "# eğer bunu açacak olursak liste[2][0] -> liste2[0] -> a"
      ],
      "metadata": {
        "colab": {
          "base_uri": "https://localhost:8080/"
        },
        "id": "lsjLQHoT4WOI",
        "outputId": "9ccd4d21-04bf-4798-9aea-48fa979c0bb3"
      },
      "execution_count": null,
      "outputs": [
        {
          "output_type": "stream",
          "name": "stdout",
          "text": [
            "a\n"
          ]
        }
      ]
    },
    {
      "cell_type": "markdown",
      "source": [
        "## Liste Komutları"
      ],
      "metadata": {
        "id": "WvNm0pzTPxde"
      }
    },
    {
      "cell_type": "code",
      "source": [
        "#append() - liste sonuna belirttiğiniz değeri yazdırır\n",
        "liste = [1,2,3]\n",
        "print(\"İlk hali :\", liste)\n",
        "liste.append(\"a\")\n",
        "print(\"Ekleme yapıldıktan sonra :\", liste)"
      ],
      "metadata": {
        "colab": {
          "base_uri": "https://localhost:8080/"
        },
        "id": "I4KmNYb74gI0",
        "outputId": "efb52e11-3ac5-4246-805a-798649789b50"
      },
      "execution_count": null,
      "outputs": [
        {
          "output_type": "stream",
          "name": "stdout",
          "text": [
            "İlk hali : [1, 2, 3]\n",
            "Ekleme yapıldıktan sonra [1, 2, 3, 'a']\n"
          ]
        }
      ]
    },
    {
      "cell_type": "code",
      "source": [
        "#insert - belirttiğiniz indekse belirttiğiniz değeri ekler\n",
        "liste = [1,2,3]\n",
        "print(\"İlk hali :\", liste)\n",
        "liste.insert(0,\"a\") # liste başına eklemesini belirttim\n",
        "print(\"Ekleme yapıldıktan sonra :\", liste)"
      ],
      "metadata": {
        "colab": {
          "base_uri": "https://localhost:8080/"
        },
        "id": "0oiqFoYEQEhg",
        "outputId": "00a088fd-ed9d-4abf-e8e0-ce29c2019795"
      },
      "execution_count": null,
      "outputs": [
        {
          "output_type": "stream",
          "name": "stdout",
          "text": [
            "İlk hali : [1, 2, 3]\n",
            "Ekleme yapıldıktan sonra : ['a', 1, 2, 3]\n"
          ]
        }
      ]
    },
    {
      "cell_type": "code",
      "source": [
        "#pop() listenin son elemanını siler\n",
        "liste = [1,2,3]\n",
        "print(\"İlk hali :\", liste)\n",
        "liste.pop()\n",
        "print(\"Silme yapıldıktan sonra :\", liste)\n",
        "\n",
        "print(\"=*15\")\n",
        "\n",
        "#pop içerisine indeks belirtebilir ve belirtilen indeksteki değerin silinmesini sağlayabilirsiniz\n",
        "liste = [1,2,3]\n",
        "print(\"İlk hali :\", liste)\n",
        "liste.pop(0) # ilk elemanın silmesini belirttim\n",
        "print(\"Silme yapıldıktan sonra :\", liste)\n"
      ],
      "metadata": {
        "colab": {
          "base_uri": "https://localhost:8080/"
        },
        "id": "1vllbmU94tnh",
        "outputId": "d7433322-15ec-46a1-9319-527e47b58dbe"
      },
      "execution_count": null,
      "outputs": [
        {
          "output_type": "stream",
          "name": "stdout",
          "text": [
            "İlk hali : [1, 2, 3]\n",
            "Silme yapıldıktan sonra : [1, 2]\n",
            "=*15\n",
            "İlk hali : [1, 2, 3]\n",
            "Silme yapıldıktan sonra : [2, 3]\n"
          ]
        }
      ]
    },
    {
      "cell_type": "code",
      "source": [
        "#remove() - belirtlen değeri listeden siler eğer aynı değerden iki tane var ise önce geleni siler\n",
        "liste = [1,2,3]\n",
        "print(\"İlk hali :\", liste)\n",
        "liste.remove(2)\n",
        "print(\"Silme yapıldıktan sonra :\", liste)\n",
        "\n",
        "print(\"=*15\")\n",
        "\n",
        "liste = [1,2,3,2]\n",
        "print(\"İlk hali :\", liste)\n",
        "liste.remove(2)\n",
        "print(\"Silme yapıldıktan sonra :\", liste)\n"
      ],
      "metadata": {
        "colab": {
          "base_uri": "https://localhost:8080/"
        },
        "id": "z86_jobn441m",
        "outputId": "7d0b5b69-a071-4861-cfba-6c3790eadb65"
      },
      "execution_count": null,
      "outputs": [
        {
          "output_type": "stream",
          "name": "stdout",
          "text": [
            "İlk hali : [1, 2, 3]\n",
            "Silme yapıldıktan sonra : [1, 3]\n",
            "=*15\n",
            "İlk hali : [1, 2, 3, 2]\n",
            "Silme yapıldıktan sonra : [1, 3, 2]\n"
          ]
        }
      ]
    },
    {
      "cell_type": "code",
      "source": [
        "#sort() - liste elemanlarını ASCII'ye uygun olacak şekilde sıralar\n",
        "# ama tüm elemanlar aynı veri tipi olmalıdır\n",
        "liste = [\"c\", \"a\", \"b\"]\n",
        "liste.sort()\n",
        "print(\"Sıralanış Liste :\",liste)\n",
        "\n",
        "liste = [3,7,1]\n",
        "liste.sort()\n",
        "print(\"Sıralanış Liste :\",liste)"
      ],
      "metadata": {
        "colab": {
          "base_uri": "https://localhost:8080/"
        },
        "id": "a9gQvqsY4_yW",
        "outputId": "069b624c-3214-4729-b116-1604e1ceef7f"
      },
      "execution_count": null,
      "outputs": [
        {
          "output_type": "stream",
          "name": "stdout",
          "text": [
            "Sıralanış Liste : ['a', 'b', 'c']\n",
            "Sıralanış Liste : [1, 3, 7]\n"
          ]
        }
      ]
    },
    {
      "cell_type": "code",
      "source": [
        "# index() - belirtilen elemanın indeksini döndürür\n",
        "liste = [5, 9, 8 , \"a\"]\n",
        "idx = liste.index(\"a\")\n",
        "print(\"Indeks :\",idx)"
      ],
      "metadata": {
        "colab": {
          "base_uri": "https://localhost:8080/"
        },
        "id": "BEXNqiCp5KUL",
        "outputId": "9f090b92-9aaa-4a50-99f3-ccf5be895fb2"
      },
      "execution_count": null,
      "outputs": [
        {
          "output_type": "stream",
          "name": "stdout",
          "text": [
            "Indeks : 3\n"
          ]
        }
      ]
    },
    {
      "cell_type": "code",
      "source": [
        "#count() - belirtilen değerlin listede kaç tane olduğunu bulur\n",
        "liste = [1,2,1,1,5,1,0,1]\n",
        "print(\"Toplam 1 Sayısı : \",liste.count(1))"
      ],
      "metadata": {
        "colab": {
          "base_uri": "https://localhost:8080/"
        },
        "id": "d_S7JNuc5VK9",
        "outputId": "39fe3704-2c32-44df-92ec-863e7a7ab9ca"
      },
      "execution_count": null,
      "outputs": [
        {
          "output_type": "stream",
          "name": "stdout",
          "text": [
            "Toplam 1 Sayısı :  5\n"
          ]
        }
      ]
    },
    {
      "cell_type": "markdown",
      "source": [
        "# Sözlükler \n",
        "## Temel Sözlük İşlemleri"
      ],
      "metadata": {
        "id": "7J1DDiKD2iwg"
      }
    },
    {
      "cell_type": "code",
      "source": [
        "# Sözlük Oluşturmak için süslü parantezler {} kullanılır\n",
        "sözlük = {}"
      ],
      "metadata": {
        "id": "8GBkZAHl2ieK"
      },
      "execution_count": null,
      "outputs": []
    },
    {
      "cell_type": "code",
      "source": [
        "# Sırası ile sözlük değişkenini tipine ve uzunluğuna bakalım\n",
        "print(type(sözlük))\n",
        "print(len(sözlük))"
      ],
      "metadata": {
        "colab": {
          "base_uri": "https://localhost:8080/"
        },
        "id": "1PHcyrPM3Mjy",
        "outputId": "e1e276b7-0eef-4c5a-b2f3-72c33e6f7665"
      },
      "execution_count": null,
      "outputs": [
        {
          "output_type": "stream",
          "name": "stdout",
          "text": [
            "<class 'dict'>\n",
            "0\n"
          ]
        }
      ]
    },
    {
      "cell_type": "code",
      "source": [
        "# Şimdi sözlüğün içinde değer depolayalım\n",
        "# Sözlükler anahtar : değer (anahtar : kilit) formatı ile çalışır\n",
        "sözlük = {\"anahtar\":\"değer\"}\n",
        "\n",
        "# ve sözlük içersindeki değere ulaşmak için indeksleme kullanılamaz\n",
        "# onun yerine anahtar ile değere ulaşılır\n",
        "print(sözlük[\"anahtar\"])"
      ],
      "metadata": {
        "colab": {
          "base_uri": "https://localhost:8080/"
        },
        "id": "Pf0y0-m73bEU",
        "outputId": "7eacdc18-1334-4ae6-803f-e00a3a5001b8"
      },
      "execution_count": null,
      "outputs": [
        {
          "output_type": "stream",
          "name": "stdout",
          "text": [
            "değer\n"
          ]
        }
      ]
    },
    {
      "cell_type": "code",
      "source": [
        "# Eğer indeksleme deneyecek olursak hata alırız tıpkı burada oldupu gibi\n",
        "print(sözlük[0])"
      ],
      "metadata": {
        "colab": {
          "base_uri": "https://localhost:8080/",
          "height": 184
        },
        "id": "jghSne3-TOqd",
        "outputId": "4a86dece-f42a-47ab-8ee0-7e3c4ce59732"
      },
      "execution_count": null,
      "outputs": [
        {
          "output_type": "error",
          "ename": "KeyError",
          "evalue": "ignored",
          "traceback": [
            "\u001b[0;31m---------------------------------------------------------------------------\u001b[0m",
            "\u001b[0;31mKeyError\u001b[0m                                  Traceback (most recent call last)",
            "\u001b[0;32m<ipython-input-120-50fbc3b01656>\u001b[0m in \u001b[0;36m<module>\u001b[0;34m\u001b[0m\n\u001b[1;32m      1\u001b[0m \u001b[0;31m# Eğer indeksleme deneyecek olursak hata alırız tıpkı burada oldupu gibi\u001b[0m\u001b[0;34m\u001b[0m\u001b[0;34m\u001b[0m\u001b[0;34m\u001b[0m\u001b[0m\n\u001b[0;32m----> 2\u001b[0;31m \u001b[0mprint\u001b[0m\u001b[0;34m(\u001b[0m\u001b[0msözlük\u001b[0m\u001b[0;34m[\u001b[0m\u001b[0;36m0\u001b[0m\u001b[0;34m]\u001b[0m\u001b[0;34m)\u001b[0m\u001b[0;34m\u001b[0m\u001b[0;34m\u001b[0m\u001b[0m\n\u001b[0m",
            "\u001b[0;31mKeyError\u001b[0m: 0"
          ]
        }
      ]
    },
    {
      "cell_type": "code",
      "source": [
        "# Sözlüklerin bu özelliği bize çok kullanışlı bir depolama imkanı sunar\n",
        "# Saklamak istesiğiniz verileri bir anahtar ile çağırabilmek indekslemeden çok daha kolaydır\n",
        "# Sözlüklerin içinde değer olarak listeler de saklanabilir hatta sözlükler bile :)\n",
        "sözlük = {\"anahtar1\" : [5,6,7],\n",
        "          \"anahtar2\" : {\"anahtar1\" : \"değer1\"}}\n",
        "\n",
        "print(sözlük[\"anahtar1\"])\n",
        "print(sözlük[\"anahtar2\"])\n",
        "print(\"=\"*15)\n",
        "# daha önce liste içerisinde ki listeye ulaşmayı göstermiştik sözlükler içinde değişe pek bir şey yok\n",
        "print(sözlük[\"anahtar1\"][0])          # sözlük[\"anahtar1\"][0] -> liste[0]\n",
        "print(sözlük[\"anahtar2\"][\"anahtar1\"]) # sözlük[\"anahtar2\"][\"anahtar1\"] -> iç_sözlük[\"anahtar1\"] -> değer1"
      ],
      "metadata": {
        "colab": {
          "base_uri": "https://localhost:8080/"
        },
        "id": "TCpOEtih31El",
        "outputId": "207e0014-614e-45ca-e3c4-e8961e526d71"
      },
      "execution_count": null,
      "outputs": [
        {
          "output_type": "stream",
          "name": "stdout",
          "text": [
            "[5, 6, 7]\n",
            "{'anahtar1': 'değer1'}\n",
            "===============\n",
            "5\n",
            "değer1\n"
          ]
        }
      ]
    },
    {
      "cell_type": "code",
      "source": [
        "# Aynı listelerde olduğu gibi anahtar ile değerleri değiştirebilirisniz\n",
        "sözlük = {\"anahtar1\":\"değer1\",\n",
        "          \"anahtar2\":\"değer2\",\n",
        "          \"anahtar3\":\"değer3\"}\n",
        "          \n",
        "print(\"İlk hali :\", sözlük)\n",
        "sözlük[\"anahtar1\"] = \"yeni değer\"\n",
        "print(\"Değiştirmeden sonra :\", sözlük)"
      ],
      "metadata": {
        "colab": {
          "base_uri": "https://localhost:8080/"
        },
        "id": "WfPyjQ4mUeqy",
        "outputId": "39773006-a6df-43df-9e26-3f1d3caa9222"
      },
      "execution_count": null,
      "outputs": [
        {
          "output_type": "stream",
          "name": "stdout",
          "text": [
            "İlk hali : {'anahtar1': 'değer1', 'anahtar2': 'değer2', 'anahtar3': 'değer3'}\n",
            "Değiştirmeden sonra : {'anahtar1': 'yeni değer', 'anahtar2': 'değer2', 'anahtar3': 'değer3'}\n"
          ]
        }
      ]
    },
    {
      "cell_type": "code",
      "source": [
        "# Ama önemli bir fark var! Eğer anahtar değerini yanlış gireseniz yeni bir anahtar-değer ikilsi eklersiniz\n",
        "sözlük = {\"anahtar1\":\"değer1\",\n",
        "          \"anahtar2\":\"değer2\",\n",
        "          \"anahtar3\":\"değer3\"}\n",
        "          \n",
        "print(\"İlk hali :\", sözlük)\n",
        "sözlük[\"Anahtar1\"] = \"yeni değer\" \n",
        "print(\"Değiştirmeden sonra :\", sözlük) # 'Anahtar1': 'yeni değer' eklendi"
      ],
      "metadata": {
        "colab": {
          "base_uri": "https://localhost:8080/"
        },
        "id": "T4ke5LWbU4MH",
        "outputId": "9d3734f6-1a59-4279-8bd3-4b0bb6aea726"
      },
      "execution_count": null,
      "outputs": [
        {
          "output_type": "stream",
          "name": "stdout",
          "text": [
            "İlk hali : {'anahtar1': 'değer1', 'anahtar2': 'değer2', 'anahtar3': 'değer3'}\n",
            "Değiştirmeden sonra : {'anahtar1': 'değer1', 'anahtar2': 'değer2', 'anahtar3': 'değer3', 'Anahtar1': 'yeni değer'}\n"
          ]
        }
      ]
    },
    {
      "cell_type": "markdown",
      "source": [
        "## Sözlük Methodları"
      ],
      "metadata": {
        "id": "gEVTTTfFVK7w"
      }
    },
    {
      "cell_type": "code",
      "source": [
        "#keys() - sözlükteki anahtarları yazdırır\n",
        "sözlük = {\"anahtar1\":\"değer1\",\n",
        "          \"anahtar2\":\"değer2\",\n",
        "          \"anahtar3\":\"değer3\"}\n",
        "\n",
        "print(sözlük.keys())"
      ],
      "metadata": {
        "colab": {
          "base_uri": "https://localhost:8080/"
        },
        "id": "5zoT_TPVVUUJ",
        "outputId": "ce8fd7de-fe96-4d12-f5ca-23aff6793e46"
      },
      "execution_count": null,
      "outputs": [
        {
          "output_type": "stream",
          "name": "stdout",
          "text": [
            "dict_keys(['anahtar1', 'anahtar2', 'anahtar3'])\n"
          ]
        }
      ]
    },
    {
      "cell_type": "code",
      "source": [
        "#values() - sözlükteki değerleri yazıdırır\n",
        "sözlük = {\"anahtar1\":\"değer1\",\n",
        "          \"anahtar2\":\"değer2\",\n",
        "          \"anahtar3\":\"değer3\"}\n",
        "\n",
        "print(sözlük.values())"
      ],
      "metadata": {
        "id": "-FW5nyMYVUhW",
        "colab": {
          "base_uri": "https://localhost:8080/"
        },
        "outputId": "0a1190dd-afa2-4acd-fdfd-27f9767702e8"
      },
      "execution_count": 131,
      "outputs": [
        {
          "output_type": "stream",
          "name": "stdout",
          "text": [
            "dict_values(['değer1', 'değer2', 'değer3'])\n"
          ]
        }
      ]
    },
    {
      "cell_type": "code",
      "source": [
        "#items() - sözlükteki anahtar:değer ikililerini yazdırır\n",
        "sözlük = {\"anahtar1\":\"değer1\",\n",
        "          \"anahtar2\":\"değer2\",\n",
        "          \"anahtar3\":\"değer3\"}\n",
        "\n",
        "print(sözlük.items())"
      ],
      "metadata": {
        "id": "g47Z4TiMVUyl",
        "colab": {
          "base_uri": "https://localhost:8080/"
        },
        "outputId": "9b580aba-e59c-4aa3-945a-e0377603349f"
      },
      "execution_count": 132,
      "outputs": [
        {
          "output_type": "stream",
          "name": "stdout",
          "text": [
            "dict_items([('anahtar1', 'değer1'), ('anahtar2', 'değer2'), ('anahtar3', 'değer3')])\n"
          ]
        }
      ]
    },
    {
      "cell_type": "code",
      "source": [
        "#get() - içerisine yazılan anahtarın değerini çeker\n",
        "sözlük = {\"anahtar1\":\"değer1\",\n",
        "          \"anahtar2\":\"değer2\",\n",
        "          \"anahtar3\":\"değer3\"}\n",
        "\n",
        "print(sözlük.get(\"anahtar2\"))"
      ],
      "metadata": {
        "id": "ISkppUvr34PG",
        "colab": {
          "base_uri": "https://localhost:8080/"
        },
        "outputId": "029ab949-8ea1-4e77-c6e8-f110ddd3903e"
      },
      "execution_count": 133,
      "outputs": [
        {
          "output_type": "stream",
          "name": "stdout",
          "text": [
            "değer2\n"
          ]
        }
      ]
    },
    {
      "cell_type": "code",
      "source": [
        "# update - sözlüğe yeni bir sözlük eklemesi yapar\n",
        "sözlük = {\"anahtar1\":\"değer1\",\n",
        "          \"anahtar2\":\"değer2\",\n",
        "          \"anahtar3\":\"değer3\"}\n",
        "\n",
        "sözlük.update({\"anahtar4\":\"değer4\"})\n",
        "print(sözlük)\n",
        "\n",
        "sözlük2 = {\"değer1\":\"daha çok değer1\",\n",
        "           \"değer2\":\"daha çok değer2\"}\n",
        "\n",
        "sözlük.update(sözlük2)\n",
        "print(sözlük)"
      ],
      "metadata": {
        "id": "ZboxLFMkVSJr",
        "colab": {
          "base_uri": "https://localhost:8080/"
        },
        "outputId": "5829a0af-3065-4516-b9ba-ce3682902140"
      },
      "execution_count": 137,
      "outputs": [
        {
          "output_type": "stream",
          "name": "stdout",
          "text": [
            "{'anahtar1': 'değer1', 'anahtar2': 'değer2', 'anahtar3': 'değer3', 'anahtar4': 'değer4'}\n",
            "{'anahtar1': 'değer1', 'anahtar2': 'değer2', 'anahtar3': 'değer3', 'anahtar4': 'değer4', 'değer1': 'daha çok değer1', 'değer2': 'daha çok değer2'}\n"
          ]
        }
      ]
    },
    {
      "cell_type": "code",
      "source": [
        "#pop() - içerisine yazılan anahtarı ve anahtarın eşini sözlükten siler\n",
        "# silinen değeri döndürür ama kullanmamak kodda hata\n",
        "sözlük = {\"anahtar1\":\"değer1\",\n",
        "          \"anahtar2\":\"değer2\",\n",
        "          \"anahtar3\":\"değer3\"}\n",
        "\n",
        "sözlük.pop(\"anahtar2\")\n",
        "print(sözlük)\n",
        "\n",
        "sözlük = {\"anahtar1\":\"değer1\",\n",
        "          \"anahtar2\":\"değer2\",\n",
        "          \"anahtar3\":\"değer3\"}\n",
        "\n",
        "ret = sözlük.pop(\"anahtar2\")\n",
        "print(sözlük)\n",
        "print(\"Dönene değer / Silinen Değer:\",ret)"
      ],
      "metadata": {
        "id": "EauGrytSVzBo",
        "colab": {
          "base_uri": "https://localhost:8080/"
        },
        "outputId": "b2404fa2-2812-4940-b164-9b2f64c5cdbe"
      },
      "execution_count": 141,
      "outputs": [
        {
          "output_type": "stream",
          "name": "stdout",
          "text": [
            "{'anahtar1': 'değer1', 'anahtar3': 'değer3'}\n",
            "{'anahtar1': 'değer1', 'anahtar3': 'değer3'}\n",
            "Dönene değer / Silinen Değer: değer2\n"
          ]
        }
      ]
    },
    {
      "cell_type": "code",
      "source": [
        "#popitem - sözlüğün son elemanını siler\n",
        "sözlük = {\"anahtar1\":\"değer1\",\n",
        "          \"anahtar2\":\"değer2\",\n",
        "          \"anahtar3\":\"değer3\"}\n",
        "\n",
        "sözlük.popitem()\n",
        "print(sözlük)"
      ],
      "metadata": {
        "id": "sWJKcRaiVzda",
        "colab": {
          "base_uri": "https://localhost:8080/"
        },
        "outputId": "acdb3ce4-6adb-4d75-b6e4-0ad1fd59e3fb"
      },
      "execution_count": 138,
      "outputs": [
        {
          "output_type": "stream",
          "name": "stdout",
          "text": [
            "{'anahtar1': 'değer1', 'anahtar2': 'değer2'}\n"
          ]
        }
      ]
    },
    {
      "cell_type": "code",
      "source": [
        "sets = {1,2,3}\n",
        "print(type(sets))"
      ],
      "metadata": {
        "colab": {
          "base_uri": "https://localhost:8080/"
        },
        "id": "yrUwflf96NCw",
        "outputId": "440cd985-7116-49c1-d58c-a3361e273d83"
      },
      "execution_count": null,
      "outputs": [
        {
          "output_type": "stream",
          "name": "stdout",
          "text": [
            "<class 'set'>\n"
          ]
        }
      ]
    },
    {
      "cell_type": "code",
      "source": [
        "sets = {1,2,\"a\"}\n",
        "print(sets)"
      ],
      "metadata": {
        "colab": {
          "base_uri": "https://localhost:8080/"
        },
        "id": "4S9jtLCE6U3E",
        "outputId": "2cf94c7e-564e-4dc1-c09c-4cf7ff76b612"
      },
      "execution_count": null,
      "outputs": [
        {
          "output_type": "stream",
          "name": "stdout",
          "text": [
            "{'a', 1, 2}\n"
          ]
        }
      ]
    },
    {
      "cell_type": "code",
      "source": [
        "sets = {5,2,\"a\"}\n",
        "print(sets) # ASCII"
      ],
      "metadata": {
        "colab": {
          "base_uri": "https://localhost:8080/"
        },
        "id": "4Tf0JNwZ6a7v",
        "outputId": "2f6f6725-40d6-4fc2-9296-a4efb4b9cfa7"
      },
      "execution_count": null,
      "outputs": [
        {
          "output_type": "stream",
          "name": "stdout",
          "text": [
            "{'a', 2, 5}\n"
          ]
        }
      ]
    },
    {
      "cell_type": "code",
      "source": [
        "sets.add(8)\n",
        "print(sets) "
      ],
      "metadata": {
        "colab": {
          "base_uri": "https://localhost:8080/"
        },
        "id": "JefmGNH36my7",
        "outputId": "b77d3c0f-1739-49c3-f385-5cb305b5e75f"
      },
      "execution_count": null,
      "outputs": [
        {
          "output_type": "stream",
          "name": "stdout",
          "text": [
            "{'a', 8, 2, 5}\n"
          ]
        }
      ]
    },
    {
      "cell_type": "code",
      "source": [
        "sets.add(8)\n",
        "print(sets) "
      ],
      "metadata": {
        "colab": {
          "base_uri": "https://localhost:8080/"
        },
        "id": "_PSgjdo36uHr",
        "outputId": "379aa51b-c254-4cfa-d712-8c5674c7e5f0"
      },
      "execution_count": null,
      "outputs": [
        {
          "output_type": "stream",
          "name": "stdout",
          "text": [
            "{'a', 8, 2, 5}\n"
          ]
        }
      ]
    },
    {
      "cell_type": "code",
      "source": [
        "sets = {5,2,\"a\",\"a\",1,1,2,5,5}\n",
        "print(sets)"
      ],
      "metadata": {
        "colab": {
          "base_uri": "https://localhost:8080/"
        },
        "id": "XegCPXX46yKx",
        "outputId": "d3a5a792-966f-4910-ef24-4effbc6b87b8"
      },
      "execution_count": null,
      "outputs": [
        {
          "output_type": "stream",
          "name": "stdout",
          "text": [
            "{'a', 1, 2, 5}\n"
          ]
        }
      ]
    },
    {
      "cell_type": "code",
      "source": [
        "sets.remove(1)\n",
        "print(sets)"
      ],
      "metadata": {
        "colab": {
          "base_uri": "https://localhost:8080/"
        },
        "id": "oirlP6WP66Q-",
        "outputId": "12b85ff2-1ad7-44cf-c03d-d41a0fed9005"
      },
      "execution_count": null,
      "outputs": [
        {
          "output_type": "stream",
          "name": "stdout",
          "text": [
            "{'a', 2, 5}\n"
          ]
        }
      ]
    },
    {
      "cell_type": "markdown",
      "source": [
        "# Tuple\n",
        "- daha basit listeler olarak düşünülebilir\n",
        "- () ile oluşturulurlar\n",
        "- eklem ve çıkartma yapılabilir ama değer değiştrime yapılamaz \n",
        "- indeksleme ile elemamlarına ulaşılabilir"
      ],
      "metadata": {
        "id": "m5PYsS9Q7CmP"
      }
    },
    {
      "cell_type": "code",
      "source": [
        "# Tuple oluşturalım\n",
        "tup = (\"Bu bir tuple\")"
      ],
      "metadata": {
        "id": "hgPpQT_BZMkT"
      },
      "execution_count": 142,
      "outputs": []
    },
    {
      "cell_type": "code",
      "source": [
        "# Listelerde değer değiştirme\n",
        "liste = [1,2,3]\n",
        "liste[0] = \"a\""
      ],
      "metadata": {
        "id": "I9r6zDid7OXO"
      },
      "execution_count": null,
      "outputs": []
    },
    {
      "cell_type": "code",
      "source": [
        "# Tuplelarde değer değiştirme !- hata aldık çünkü mümkün değil\n",
        "tup = (1,2,3)\n",
        "tup[0] = \"a\""
      ],
      "metadata": {
        "colab": {
          "base_uri": "https://localhost:8080/",
          "height": 201
        },
        "id": "LK02pAAa7Tst",
        "outputId": "6e779b5e-b20f-4143-8085-ea4650b4d12c"
      },
      "execution_count": null,
      "outputs": [
        {
          "output_type": "error",
          "ename": "TypeError",
          "evalue": "ignored",
          "traceback": [
            "\u001b[0;31m---------------------------------------------------------------------------\u001b[0m",
            "\u001b[0;31mTypeError\u001b[0m                                 Traceback (most recent call last)",
            "\u001b[0;32m<ipython-input-55-8d86372f34aa>\u001b[0m in \u001b[0;36m<module>\u001b[0;34m\u001b[0m\n\u001b[1;32m      1\u001b[0m \u001b[0mtup\u001b[0m \u001b[0;34m=\u001b[0m \u001b[0;34m(\u001b[0m\u001b[0;36m1\u001b[0m\u001b[0;34m,\u001b[0m\u001b[0;36m2\u001b[0m\u001b[0;34m,\u001b[0m\u001b[0;36m3\u001b[0m\u001b[0;34m)\u001b[0m\u001b[0;34m\u001b[0m\u001b[0;34m\u001b[0m\u001b[0m\n\u001b[0;32m----> 2\u001b[0;31m \u001b[0mtup\u001b[0m\u001b[0;34m[\u001b[0m\u001b[0;36m0\u001b[0m\u001b[0;34m]\u001b[0m \u001b[0;34m=\u001b[0m \u001b[0;34m\"a\"\u001b[0m\u001b[0;34m\u001b[0m\u001b[0;34m\u001b[0m\u001b[0m\n\u001b[0m\u001b[1;32m      3\u001b[0m \u001b[0mprint\u001b[0m\u001b[0;34m(\u001b[0m\u001b[0mtup\u001b[0m\u001b[0;34m)\u001b[0m\u001b[0;34m\u001b[0m\u001b[0;34m\u001b[0m\u001b[0m\n",
            "\u001b[0;31mTypeError\u001b[0m: 'tuple' object does not support item assignment"
          ]
        }
      ]
    },
    {
      "cell_type": "code",
      "source": [
        "tup = (1,2,3)\n",
        "\n",
        "# indeksleme\n",
        "print(tup[0])\n",
        "\n",
        "#kesme\n",
        "print(tup[:2])\n",
        "\n",
        "#ters çevirme\n",
        "print(tup[::-1])"
      ],
      "metadata": {
        "colab": {
          "base_uri": "https://localhost:8080/"
        },
        "id": "cXfMa4er7ny7",
        "outputId": "912f38b2-daa2-459d-cb84-862e7da4118e"
      },
      "execution_count": 144,
      "outputs": [
        {
          "output_type": "stream",
          "name": "stdout",
          "text": [
            "1\n",
            "(1, 2)\n",
            "(3, 2, 1)\n"
          ]
        }
      ]
    },
    {
      "cell_type": "code",
      "source": [
        "print(\"En büyük eleman\", max(tup)) # en büyük elemanı bulmak\n",
        "print(\"En küçük eleman\", min(tup)) # en küçük elemanı bulmak"
      ],
      "metadata": {
        "colab": {
          "base_uri": "https://localhost:8080/"
        },
        "id": "eL40T8pG74P3",
        "outputId": "31c9c415-e7a6-48c6-f006-517db9b74504"
      },
      "execution_count": 147,
      "outputs": [
        {
          "output_type": "stream",
          "name": "stdout",
          "text": [
            "En büyük eleman 3\n",
            "En küçük eleman 1\n"
          ]
        }
      ]
    },
    {
      "cell_type": "markdown",
      "source": [
        "#Sets (from w3school)\n"
      ],
      "metadata": {
        "id": "zAuBPxecaBPx"
      }
    },
    {
      "cell_type": "code",
      "source": [],
      "metadata": {
        "id": "x3F1XdPja8Nq"
      },
      "execution_count": null,
      "outputs": []
    },
    {
      "cell_type": "code",
      "source": [
        "thisset = {\"apple\", \"banana\", \"cherry\"}\n",
        "print(thisset)"
      ],
      "metadata": {
        "colab": {
          "base_uri": "https://localhost:8080/"
        },
        "id": "m2EmbecfaPNV",
        "outputId": "82f210fc-84dd-49bb-83c1-f001e2287fc1"
      },
      "execution_count": 150,
      "outputs": [
        {
          "output_type": "stream",
          "name": "stdout",
          "text": [
            "{'banana', 'cherry', 'apple'}\n"
          ]
        }
      ]
    },
    {
      "cell_type": "code",
      "source": [
        "thisset = {\"apple\", \"banana\", \"cherry\"}\n",
        "thisset.add(\"orange\")\n",
        "print(thisset)"
      ],
      "metadata": {
        "colab": {
          "base_uri": "https://localhost:8080/"
        },
        "id": "wbamnChnaS7q",
        "outputId": "b69ec41f-282e-4e23-9e97-3e3659fbbfb2"
      },
      "execution_count": 151,
      "outputs": [
        {
          "output_type": "stream",
          "name": "stdout",
          "text": [
            "{'banana', 'cherry', 'apple', 'orange'}\n"
          ]
        }
      ]
    },
    {
      "cell_type": "code",
      "source": [
        "thisset = {\"apple\", \"banana\", \"cherry\"}\n",
        "tropical = {\"pineapple\", \"mango\", \"papaya\"}\n",
        "\n",
        "thisset.update(tropical)\n",
        "\n",
        "print(thisset)"
      ],
      "metadata": {
        "colab": {
          "base_uri": "https://localhost:8080/"
        },
        "id": "jhWnC_4WadQS",
        "outputId": "0ef340d8-af06-4afe-d477-aff7f8331ade"
      },
      "execution_count": 152,
      "outputs": [
        {
          "output_type": "stream",
          "name": "stdout",
          "text": [
            "{'banana', 'cherry', 'pineapple', 'apple', 'mango', 'papaya'}\n"
          ]
        }
      ]
    },
    {
      "cell_type": "code",
      "source": [
        "thisset = {\"apple\", \"banana\", \"cherry\"}\n",
        "\n",
        "thisset.remove(\"banana\")\n",
        "\n",
        "print(thisset)"
      ],
      "metadata": {
        "colab": {
          "base_uri": "https://localhost:8080/"
        },
        "id": "qab7FQaUajO_",
        "outputId": "0a8d3ad6-3ea3-4875-9581-98e3fe378798"
      },
      "execution_count": 153,
      "outputs": [
        {
          "output_type": "stream",
          "name": "stdout",
          "text": [
            "{'cherry', 'apple'}\n"
          ]
        }
      ]
    },
    {
      "cell_type": "code",
      "source": [
        "thisset = {\"apple\", \"banana\", \"cherry\"}\n",
        "\n",
        "thisset.discard(\"banana\")\n",
        "\n",
        "print(thisset)"
      ],
      "metadata": {
        "colab": {
          "base_uri": "https://localhost:8080/"
        },
        "id": "cY0XpEIcam4u",
        "outputId": "a80353b5-3bb3-442f-9b3f-d38c55efd973"
      },
      "execution_count": 154,
      "outputs": [
        {
          "output_type": "stream",
          "name": "stdout",
          "text": [
            "{'cherry', 'apple'}\n"
          ]
        }
      ]
    },
    {
      "cell_type": "code",
      "source": [
        "thisset = {\"apple\", \"banana\", \"cherry\"}\n",
        "\n",
        "thisset.pop()\n",
        "print(thisset)\n",
        "\n",
        "print(\"=\"*15)\n",
        "\n",
        "thisset = {\"apple\", \"banana\", \"cherry\"}\n",
        "\n",
        "x = thisset.pop()\n",
        "print(\"Silinene eleman:\",x)\n",
        "print(thisset)"
      ],
      "metadata": {
        "colab": {
          "base_uri": "https://localhost:8080/"
        },
        "id": "ouc9-u11apdL",
        "outputId": "c1fcd505-81cf-4898-a6a1-d6fe316acd8d"
      },
      "execution_count": 156,
      "outputs": [
        {
          "output_type": "stream",
          "name": "stdout",
          "text": [
            "{'cherry', 'apple'}\n",
            "===============\n",
            "Silinene eleman: banana\n",
            "{'cherry', 'apple'}\n"
          ]
        }
      ]
    }
  ]
}