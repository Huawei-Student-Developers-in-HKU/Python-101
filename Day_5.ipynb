{
  "nbformat": 4,
  "nbformat_minor": 0,
  "metadata": {
    "colab": {
      "provenance": []
    },
    "kernelspec": {
      "name": "python3",
      "display_name": "Python 3"
    },
    "language_info": {
      "name": "python"
    }
  },
  "cells": [
    {
      "cell_type": "markdown",
      "source": [
        "# Kütüphaneler / Modüller\n",
        "\n",
        "Kütüphane veya modül, ne dediğiniz fark etmez, Python projenize ekstra özellikler kazandıran ek paketlerdir. Örneğin şuan bazı temel matematiksel işlemleri yapabilseniz bile trigonometrik işlemler gibi ileri seviye işlemleri yapmazsınız. Daha doğrusu yapmak için bir dize işlemi arka arkaya yapmanız gerkir. İşte bu ve bunun gibi bir çok alanda topluluk veya Python ekibi tarafından hazırlanmış kütüphaneler/modüller devreye girer. Bir kütüphaneyi programımıza çağırmak için . . .\n",
        "````\n",
        "import kütüphane_adı\n",
        "````\n",
        "\n",
        "Örneğin az önce bahsettiğimiz matematiksel işlemleri içerisinde barındıran kütüphane ``math`` kütüphanesidir."
      ],
      "metadata": {
        "id": "JzTd8fguMrgr"
      }
    },
    {
      "cell_type": "code",
      "source": [
        "import math\n",
        "\n",
        "print (math.sin(0.00))\n",
        "print (math.sin(-1.23))\n",
        "print (math.sin(10))\n",
        "print (math.sin(math.pi))\n",
        "print (math.sin(math.pi/2))"
      ],
      "metadata": {
        "id": "3PIKXCY9NviM"
      },
      "execution_count": null,
      "outputs": []
    },
    {
      "cell_type": "markdown",
      "source": [
        "Bir kütüphane içerisindeki fonksiyonu kullanmak/çağırmak için \" . \" sembolü kullanılır. \n",
        "````\n",
        "modül.fonksiyon()\n",
        "````\n",
        "Tıpkı yukarıda yaptığımız gibi. ``math.sin()`` ile math kütüphanesi içerisindeki ``sin()`` fonskiyonunu çağırdık ve kullandık.\n",
        "\n",
        "Python içerisinde bu ve bunun gibi bir çok kütüphane bulunmaktadır. Bazıları default olarak python ile indirilirken bazılarını daha sonra kendiniz kurmalısınızdır. Hangi kütüphaneleri kullanacağınız ise yapacağınız projeye bağlı olarak değişecektir tabiki.\n",
        "\n",
        "Bizim bu kısımda kullancağımız modül ve fonksiyon ise ``random`` kütüphanesi ve içerisindeki ``randint`` komutu olacaktır. Bu fonskiyon içerisine belirtilen iki sayı arasında gelişi güzel, rastgele bir sayı seçmektedir."
      ],
      "metadata": {
        "id": "jJSWBCY7N2cT"
      }
    },
    {
      "cell_type": "code",
      "source": [
        "import random\n",
        "\n",
        "x = random.randint(1, 10)\n",
        "print(x)"
      ],
      "metadata": {
        "id": "n62eKwDKPB2R"
      },
      "execution_count": null,
      "outputs": []
    },
    {
      "cell_type": "markdown",
      "source": [
        "Yukarıdaki kod bloğunu her çalıştırdığınızda farklı bir x çıktısı ekrana gelecektir. \n",
        "\n",
        "Artık bir sayı tahmin oyunu yapmak için ihtiyacımız olan herşeyi biliyoruz. İlk olarak oyun için bir döngü açacağız. Böylece kullanıcı çıkmak isteyene kadar oyun devam edecek. Daha sonra bilgisayara 1 ile 10 arasında bir değer seçtireceğiz hemen sonrasında ise kullanıcından bir tahmin alacağız. Geriye kalan tek şey ise bilgisayarın tuttuğu sayı ile kullanıcının tahmin değerini karşılaştırmak olacaktır. Döngünün sonuna da eğer kullanıcı 0 değerini girer ise döngüyü sonlanlandıran bir karar yapısı yazarak programı bitiracağiz."
      ],
      "metadata": {
        "id": "Sbn7BnX1PG2H"
      }
    },
    {
      "cell_type": "code",
      "source": [
        "import random\n",
        "\n",
        "while True:\n",
        "  x = random.randint(1, 10)\n",
        "  y = int(input(\"Tahmininiz kaç :: \"))\n",
        "\n",
        "  if x == y:\n",
        "    print(\"Tebrikler doğru bildiniz\")\n",
        "  else:\n",
        "    print(\"Ne yazık ki bilemediniz.\")\n",
        "    print(\"Doğru değer\", x, \"olacaktı.\")\n",
        "\n",
        "  if y == 0:\n",
        "    print(\"Oyundan çıkılıyor . . .\")\n",
        "    break"
      ],
      "metadata": {
        "id": "ci52JIHIPzp7"
      },
      "execution_count": null,
      "outputs": []
    },
    {
      "cell_type": "markdown",
      "source": [
        "Tabiki bu programa bazı eklemeler ile dah güzel hale getirilebilir. Örneğin kullanıcı doğru bildiği sürece artan bir puan ve yanlış bildiği sürece azalan bir hak sayacı. \n",
        "\n",
        "Kullanıcı doğru bildikçe artan tahmin aralığı ve yeni bir seviyeye geçtiği için eklenen hak ve yanlış tahminde daha büyük veya küçük yönlendirmeleri gib özellikler ekleyerek daha güzel bir oyun oluşturabilirsiniz."
      ],
      "metadata": {
        "id": "CL4zIY2xQdGb"
      }
    },
    {
      "cell_type": "code",
      "source": [
        "import random\n",
        "\n",
        "# ilk değerler\n",
        "puan = 0\n",
        "can = 10\n",
        "level = 1\n",
        "\n",
        "while True:\n",
        "  print(\"=====================Level\",level)\n",
        "  while True:\n",
        "    x = random.randint(1, level*10) # 1.level : 1 ile 10 - 2.level : 1 ile 20 - ....\n",
        "    y = int(input(\"Tahmininiz kaç :: \"))\n",
        "\n",
        "    if x == y:\n",
        "      print(\"\\nTebrikler doğru bildiniz\")\n",
        "      puan += 1\n",
        "      break\n",
        "\n",
        "    else:\n",
        "      can -= 1\n",
        "      if x<y:\n",
        "        print(\"\\nDaha küçük bir değer girin\")\n",
        "        print(\"Kalan can\",can)\n",
        "      elif y<x:\n",
        "        print(\"\\nDaha büyük bir değer girin\")\n",
        "        print(\"Kalan can\",can)\n",
        "\n",
        "      if can == 0:\n",
        "        print(\"\\nTüm haklarınız bitti\")\n",
        "        print(\"Doğru cevap\",x)\n",
        "        print(\"Toplam puan\",puan)\n",
        "        break\n",
        "\n",
        "  if can == 0:\n",
        "    puan = 0\n",
        "    can = 10\n",
        "    level = 1\n",
        "  else:\n",
        "    exit = input(\"Çıkmak ister misiniz ? [E/H]\")\n",
        "    if exit == \"e\" or exit ==\"E\":\n",
        "      print(\"çıkılıyor . . .\")\n",
        "      break\n",
        "    else:\n",
        "      can += 10\n",
        "      level += 1"
      ],
      "metadata": {
        "id": "l1x84So2Q01-"
      },
      "execution_count": null,
      "outputs": []
    }
  ]
}