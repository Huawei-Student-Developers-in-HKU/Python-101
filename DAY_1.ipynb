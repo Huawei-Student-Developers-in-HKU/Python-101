{
  "nbformat": 4,
  "nbformat_minor": 0,
  "metadata": {
    "colab": {
      "provenance": [],
      "collapsed_sections": []
    },
    "kernelspec": {
      "name": "python3",
      "display_name": "Python 3"
    },
    "language_info": {
      "name": "python"
    }
  },
  "cells": [
    {
      "cell_type": "markdown",
      "source": [
        "# Terminoloji\n",
        "\n",
        "##Algoritma Nedir ?\n",
        "Algoritma, bir problemin çözümü için yapılması gereken adımların uygun sıra halinde dizilmesidir.\n",
        "\n",
        "##Karar Yapısı Nedir ?\n",
        "Karar yapısı programnalam dillerin içerisinde x olayı olrsa a işini yap, y durumu olursa b işini yap dememizi sağlayan kod kısımlarıdır\n",
        "\n",
        "##Döngüler\n",
        "Kod içerisinde belirlenen durum veya süre tamamlanana kadar belirli işlerin yapılmasını sağladığımız kod kısımlarıdır\n",
        "\n",
        "##Sınıflar\n",
        "Kendisine mensup, o sınıfa ait değerlerin/objelerin belirli özel fonksiyonlar kullanabilmesini sağlar\n",
        "\n",
        "##Değişken \n",
        "Belirli bir değeri depolamak, sonra kullanmak için kullanılan anahtar kelimelerdir. Daha kolay ve okunabilir kod yazmayı sağlarlar. Programlamanın en önemli parçasıdır desek yanlış demiş olmayız.\n",
        "\n",
        "###Python Değişken Oluşturma Kuralları\n",
        "-Değişkenler isimlendirilirken kelimeler arasında boşluk karakteri kullanılmaz.\n",
        "- Değişken isimleri büyük-küçük harf duyarlıdır\n",
        "- Değişken isimlerinde zorunluluk olmamasına karşın Türkçe karakter kullanılmamalıdır.\n",
        "-Değişken isimleri ?,!,:,% gibi özel karakterler içeremez."
      ],
      "metadata": {
        "id": "TzFEleYzphiX"
      }
    },
    {
      "cell_type": "markdown",
      "source": [
        "# Değişken oluşturalım"
      ],
      "metadata": {
        "id": "VfQ5GxN5rCfQ"
      }
    },
    {
      "cell_type": "code",
      "source": [
        "isim = \"Enes\"\n",
        "age = 20\n",
        "school \"HKU\""
      ],
      "metadata": {
        "id": "okemYeTTrE1W"
      },
      "execution_count": null,
      "outputs": []
    },
    {
      "cell_type": "markdown",
      "source": [
        "Yukarıda 3 farklı değişken oluşturduk ve 2 farklı değer tipi tutuyorlar içleirnde. Bunlardan ilki string (str) yani karakter/kelime/cümle ikincis ise tam sayı anlamına gelen integer (int)\n",
        "\n",
        "Burda dikkat edilmesi gereken şey karakter-kelime-cümleler tırnak içinde, tek veya çift fark etmez, yazılmalıdırlar. Bunun sebebi programlama dillerinin kodu çalıştırıken değişken isimleri (tırnak içinde olmayan kelimeler) ve stringleri (tırnak içinde olan kelimler) ayırabilmesi içindir."
      ],
      "metadata": {
        "id": "n0amgrABrJrc"
      }
    },
    {
      "cell_type": "markdown",
      "source": [
        "# Değişken Tipleri\n",
        "Başlarken Python için 4 temel veri tipi öğreneceğiz. Bunlar :\n",
        "- string  // str\n",
        "- integers // int\n",
        "- floats // float\n",
        "- bools // bool\n",
        "değişkenleridir. \n",
        "\n",
        "String veri tipi daha öncede bahsettiğimiz gibi karakter kelime ve cümleleri temsil eder."
      ],
      "metadata": {
        "id": "tZ4TFLGvr6DC"
      }
    },
    {
      "cell_type": "code",
      "source": [
        "\"k\"\n",
        "\"kelime\"\n",
        "\"bu da cümle\""
      ],
      "metadata": {
        "id": "hV-YhoMxsXpe"
      },
      "execution_count": null,
      "outputs": []
    },
    {
      "cell_type": "markdown",
      "source": [
        "Buna karşın integers ve float sayısal veri tipleridir. Tam karşılıkları integers tam sayı,\n",
        "float ise ondalıklı sayılardır."
      ],
      "metadata": {
        "id": "hsPdjstMsb8A"
      }
    },
    {
      "cell_type": "code",
      "source": [
        "5\n",
        "5.0\n",
        "\n",
        "7\n",
        "7.12\n",
        "\n",
        "9\n",
        "9.05"
      ],
      "metadata": {
        "id": "MFOoePwMsl2A"
      },
      "execution_count": null,
      "outputs": []
    },
    {
      "cell_type": "markdown",
      "source": [
        "Bool veri tipi ise True veya False değerlerini alır ve kod içinde karar verme aşamalarında kullanılırlar. Örneğin eğer x olursa/doğruysa a'yı gerçekleştir gibi"
      ],
      "metadata": {
        "id": "QOSMd_PfsrG6"
      }
    },
    {
      "cell_type": "code",
      "source": [
        "True\n",
        "False"
      ],
      "metadata": {
        "id": "pmTNtDk7sphu"
      },
      "execution_count": null,
      "outputs": []
    },
    {
      "cell_type": "markdown",
      "source": [
        "#Print Fonksiyonu\n",
        "print() fonksiyonu konsola veya terminale yazı yazdırmak için kullanılır. Örneğin bir değişken oluşturalım ve bunun print() şle çıktısını alalım."
      ],
      "metadata": {
        "id": "R5WzSFDos9Bj"
      }
    },
    {
      "cell_type": "code",
      "source": [
        "var = \"Hello World\"\n",
        "print(var)"
      ],
      "metadata": {
        "id": "Lt-vOarGtOYt"
      },
      "execution_count": null,
      "outputs": []
    },
    {
      "cell_type": "markdown",
      "source": [
        "Tahmin edersiniz ki print() fonksiyonu bizim için önemli bir yere sahip bu yüzden kendisi ile yapabildiğimiz şeyleri biraz daha derinleştirelim.\n",
        "\n",
        "## Stringleri Birleştirme\n",
        "string tipi değerler ile değişken veya açık olan halleri, aralrında toplama yapılabilir. Örneğin"
      ],
      "metadata": {
        "id": "ldk6yHE-tSRC"
      }
    },
    {
      "cell_type": "code",
      "source": [
        "print(\"Hasan\"+\"Kalyoncu\")"
      ],
      "metadata": {
        "colab": {
          "base_uri": "https://localhost:8080/"
        },
        "id": "XSGq1zr2tfE5",
        "outputId": "28d7fd64-c7cb-4493-9246-544c64ffcedc"
      },
      "execution_count": null,
      "outputs": [
        {
          "output_type": "stream",
          "name": "stdout",
          "text": [
            "HasanKalyoncu\n"
          ]
        }
      ]
    },
    {
      "cell_type": "code",
      "source": [
        "var1 = \"Hasan\"\n",
        "print(var1+\"Kalyoncu\")"
      ],
      "metadata": {
        "colab": {
          "base_uri": "https://localhost:8080/"
        },
        "id": "VqQPSh0ntuqO",
        "outputId": "680cd861-0005-4473-d203-018ddddfa243"
      },
      "execution_count": null,
      "outputs": [
        {
          "output_type": "stream",
          "name": "stdout",
          "text": [
            "HasanKalyoncu\n"
          ]
        }
      ]
    },
    {
      "cell_type": "code",
      "source": [
        "var1 = \"Hasan\"\n",
        "var2 = \"Kalyoncu\"\n",
        "print(var1+var2)"
      ],
      "metadata": {
        "colab": {
          "base_uri": "https://localhost:8080/"
        },
        "id": "9G_XpI21tzNt",
        "outputId": "2802e310-081a-48a0-bf23-7339b30739c3"
      },
      "execution_count": null,
      "outputs": [
        {
          "output_type": "stream",
          "name": "stdout",
          "text": [
            "HasanKalyoncu\n"
          ]
        }
      ]
    },
    {
      "cell_type": "markdown",
      "source": [
        "Yukarıda gördüğünüz gibi + sembolünü print() ile kullanarak kelimleri ve değişkenleri birleştirerek cümleler oluşturabildik. Ama bu yöntem sadece string tipi için kullanılabilir denkleme bir sayı girince Python kelime ve sayıyı matematiksel olarak toplamaya çlışır ve hata veriri."
      ],
      "metadata": {
        "id": "HQbX2ZjGt6QM"
      }
    },
    {
      "cell_type": "code",
      "source": [
        "print(\"Kelime\"+2)"
      ],
      "metadata": {
        "id": "G78CjZ4WuMeB"
      },
      "execution_count": null,
      "outputs": []
    },
    {
      "cell_type": "markdown",
      "source": [
        "Ama ilginçtir ki aralarında çarpma yapılırsa hata vermek yerine farklı bir sonuç verir."
      ],
      "metadata": {
        "id": "vzKpxAliuO6T"
      }
    },
    {
      "cell_type": "code",
      "source": [
        "print(\"Hi\"*3)"
      ],
      "metadata": {
        "id": "dZFeBffAuWkr"
      },
      "execution_count": null,
      "outputs": []
    },
    {
      "cell_type": "markdown",
      "source": [
        "## \",\" ile Birleştirme\n",
        "\n",
        "Bu sefer + yerine , ile değişkenleri birleştireceğiz. Bu sayede hangi değişken tipi olduğu önemsiz olarak birleştirme yapılabilecektir. Bunun en önemli sebebi , sembolünün Python içerisinde başka bir işlevinin olmaması ve bu göreve atanmış olmasıdır."
      ],
      "metadata": {
        "id": "xP8R9j_quYdM"
      }
    },
    {
      "cell_type": "code",
      "source": [
        "var1 = \"Enes\"\n",
        "var2 = 20\n",
        "print(var1,var2)"
      ],
      "metadata": {
        "id": "gbXfLayIuxc2"
      },
      "execution_count": null,
      "outputs": []
    },
    {
      "cell_type": "code",
      "source": [
        "print(\"Merhaba, benim adım\", var1, \"ve\", var2, \"yaşındayım.\")"
      ],
      "metadata": {
        "id": "UBxb3NGku3bb"
      },
      "execution_count": null,
      "outputs": []
    },
    {
      "cell_type": "markdown",
      "source": [
        "##.format() ile Birleştirme\n",
        "Bunlar dışında geriye kalan son yöntem ama en önemlisi ve profesyoneli .format() yöntemidir. Bu yöntemde tüm cümleyi bir string olarak, aralarda , ile kesinti yapmadan yazıyoruz ve değişkenlerin gelmesi gerekn yerlere {} bırakıyoruz. Daha sonrasında string sonunda .format() içerisinde yazılması gerkenleri yazıyoruz."
      ],
      "metadata": {
        "id": "5YPkdJPOu-1r"
      }
    },
    {
      "cell_type": "code",
      "source": [
        "print(\"Bu bir {} yazısıdır ve format methodunu {} için kullanıldı\".format(\"örnek\", \"göstermek\"))"
      ],
      "metadata": {
        "id": "cglbtuuavY1c"
      },
      "execution_count": null,
      "outputs": []
    },
    {
      "cell_type": "code",
      "source": [
        "var1 = \"Enes\"\n",
        "var2 = 20\n",
        "# print(\"Merhaba, benim adım var ve var2 yaşındayım.\")\n",
        "print(\"Merhaba, benim adım {} ve {} yaşındayım.\".format(var1,var2))"
      ],
      "metadata": {
        "id": "wQvZXZ6mvkme"
      },
      "execution_count": null,
      "outputs": []
    },
    {
      "cell_type": "markdown",
      "source": [
        "şeklinde kullanılır. Burada gördüğünüz gibi belirlediğiniz boşlukları format() içerisindeki sıra ile doldurur. "
      ],
      "metadata": {
        "id": "EpAxEBNbv3rg"
      }
    },
    {
      "cell_type": "markdown",
      "source": [
        "#Değişkenleri Birbirine Dönüştürme\n",
        "Her değişkenin Pythpn içerisinde bir karşılığı vardır. Bunlar:\n",
        "- string // str\n",
        "- integer // int\n",
        "- float // float\n",
        "- bool // bool\n",
        "\n",
        "Python içerisinde bu belirttiğimiz karşılılar ile birbirleri arası değişken dönüşümü yapılabilir. Burada dikkat edilmesi gereken şey bool tipinin karşılığının sadece iki tane olmasından ötürü bir dönüşüm yapılamaz. \n",
        "\n",
        "Değişkenlerin tipini öğrenmek için type() fonksiyonunu kullanacağız.\n"
      ],
      "metadata": {
        "id": "RPa1OXwrwFK-"
      }
    },
    {
      "cell_type": "code",
      "source": [
        "var1 = \"Hi!\" \n",
        "var2 = 2\n",
        "var3 = 2.74\n",
        "var4 = True"
      ],
      "metadata": {
        "id": "JyfDtLngwxTS"
      },
      "execution_count": null,
      "outputs": []
    },
    {
      "cell_type": "code",
      "source": [
        "print(type(var1))\n",
        "print(type(var2))\n",
        "print(type(var3))\n",
        "print(type(var4))"
      ],
      "metadata": {
        "id": "fQ53CLduw2Yh"
      },
      "execution_count": null,
      "outputs": []
    },
    {
      "cell_type": "markdown",
      "source": [
        "type() fonksiyonun kullanımı gördüğümüze göre şimdi dönüşümleri yapalım.\n",
        "\n",
        "### int -> str"
      ],
      "metadata": {
        "id": "QsjRZBBFw8NY"
      }
    },
    {
      "cell_type": "code",
      "source": [
        "var = 5\n",
        "print(type(str(var)))"
      ],
      "metadata": {
        "id": "H4hVq4ivxFvn"
      },
      "execution_count": null,
      "outputs": []
    },
    {
      "cell_type": "markdown",
      "source": [
        "### float -> str"
      ],
      "metadata": {
        "id": "nROn1fztxGEt"
      }
    },
    {
      "cell_type": "code",
      "source": [
        "var = 5.85\n",
        "print(type(str(var)))"
      ],
      "metadata": {
        "id": "gLsEpI2LxG24"
      },
      "execution_count": null,
      "outputs": []
    },
    {
      "cell_type": "markdown",
      "source": [
        "### str -> int"
      ],
      "metadata": {
        "id": "z2wG3mAXxHKw"
      }
    },
    {
      "cell_type": "code",
      "source": [
        "var = \"5\"\n",
        "print(type(int(var)))"
      ],
      "metadata": {
        "id": "RQ0JsazyxM7o"
      },
      "execution_count": null,
      "outputs": []
    },
    {
      "cell_type": "markdown",
      "source": [
        "### str -> float"
      ],
      "metadata": {
        "id": "GtTf35P5xNO9"
      }
    },
    {
      "cell_type": "code",
      "source": [
        "var = \"5\"\n",
        "print(type(float(var)))"
      ],
      "metadata": {
        "id": "CWyiZhEaxNti"
      },
      "execution_count": null,
      "outputs": []
    },
    {
      "cell_type": "code",
      "source": [
        "var = \"8.96\"\n",
        "print(type(float(var)))"
      ],
      "metadata": {
        "id": "jVZxZ8yexeeM"
      },
      "execution_count": null,
      "outputs": []
    },
    {
      "cell_type": "markdown",
      "source": [
        "### str -> float"
      ],
      "metadata": {
        "id": "5QOP-3k8xi7v"
      }
    },
    {
      "cell_type": "code",
      "source": [
        "var = 5\n",
        "print(type(float(var)))"
      ],
      "metadata": {
        "id": "clKHKjMLxlJt"
      },
      "execution_count": null,
      "outputs": []
    },
    {
      "cell_type": "markdown",
      "source": [
        "### float -> str"
      ],
      "metadata": {
        "id": "DCgHvLBCxlX0"
      }
    },
    {
      "cell_type": "code",
      "source": [
        "var = 9.66\n",
        "print(type(int(var)))"
      ],
      "metadata": {
        "id": "7BdGJgkSxnk5"
      },
      "execution_count": null,
      "outputs": []
    },
    {
      "cell_type": "markdown",
      "source": [
        "# Kullanıcıdan Girdi Alma\n",
        "bir Kullanıcıdan değer alamak için input() fonksiyonu kullanılır. Kullanımının normal değişken atamaktan bir farkı yoktur. Bu sefer sol tarafta değişken anahtar kelimesi sağ tarfata ise bu sefer değer değil input() fonksiyonu olur çünkü bu sefer bu değer dışarıda gelecektir."
      ],
      "metadata": {
        "id": "jxaSgEhCxi3Q"
      }
    },
    {
      "cell_type": "code",
      "source": [
        "var = input()\n",
        "print(var)"
      ],
      "metadata": {
        "id": "Q98Z_MXOyD9N"
      },
      "execution_count": null,
      "outputs": []
    },
    {
      "cell_type": "markdown",
      "source": [
        "Şimdi ufak bir test yapalım. Aşağıdaki girdi sorularına sayısal değerler girelim ve işlem sonucuna bakalım."
      ],
      "metadata": {
        "id": "7mNrzdjUyFQB"
      }
    },
    {
      "cell_type": "code",
      "source": [
        "var1 = input()\n",
        "var2 = input()\n",
        "print(var1+var2)"
      ],
      "metadata": {
        "id": "gofVtwK5yL2w"
      },
      "execution_count": null,
      "outputs": []
    },
    {
      "cell_type": "markdown",
      "source": [
        "Eğer yönelgelere uyduysanız matematiksel bir işlem değil stringler arası toplama yani girdiğiniz iki sayının birleştirilme işleminin uygulandığını görürüsünüz. \n",
        "\n",
        "Buradan yapılması gereken çıkarım input() içerisine girilen tüm değerleri string veri tipine çevirir. Bunun sebei aslında çok basittir. Sayısal değerler kelimelere çevrilebilirken kelimeler sayısal değerleri çevrilemez. Bu yğzden komut minimum hata için içerisine girerilen herşeyi string formuna çevirir. Siz programcılar daha sonra bu girdileri kullankmak için gerekli forma çevirebilrssiniz. Örbeğin girdiyi direkt olarak sayısal değere çevirerek girdi almak için :"
      ],
      "metadata": {
        "id": "BJiT1XS7yYtV"
      }
    },
    {
      "cell_type": "code",
      "source": [
        "var1 = int(input())\n",
        "var2 = int(input())\n",
        "print(var1+var2)"
      ],
      "metadata": {
        "id": "xowYA2KAzGf2"
      },
      "execution_count": null,
      "outputs": []
    },
    {
      "cell_type": "markdown",
      "source": [
        "Ve artık sayısal değer girdiğinizde önce string tipinden integer tipine dönüştürülür ve sonrasında değişkene eşitlerinir. Eğer sayısal değerler girdiyseniz işlemin olması gibi olduğunu görmüşsünüzdür. \n",
        "\n",
        "Eğer harf, kelime veya cümle gibi string tipi girerseniz hata ile karşılaşırsınız. Deneyip görebilirsiniz."
      ],
      "metadata": {
        "id": "YHNfmJt6zOwF"
      }
    },
    {
      "cell_type": "markdown",
      "source": [
        "input() ile ilgili bahsedeceğimzi son şey kullanıcıdan bir şey istersek ne istediğimizide belirtmektir. Bunu da için input() parantezleri içerisine açıklama yazazarak geçekleştirebilirsiniz. "
      ],
      "metadata": {
        "id": "vNxHvpQ2zOWf"
      }
    },
    {
      "cell_type": "code",
      "source": [
        "var1 = input(\"Bu birinci isteğimiz :\")\n",
        "var2 = input(\"Bu ikinci isteğimiz :\")\n",
        "\n",
        "print(\"Birinci\",var1,\"ikinci\",var2)"
      ],
      "metadata": {
        "id": "r9fiZQb3z2rr"
      },
      "execution_count": null,
      "outputs": []
    },
    {
      "cell_type": "markdown",
      "source": [
        "Şekildeki gibi yazıca input() içerisine yazdığımız şeylerin değişkene bir etkisi olmadığını görmüş olduk. Değişkenin değeri sadece sizin girdiğiniz değerlerdir. "
      ],
      "metadata": {
        "id": "ZyeYbt-e0C5H"
      }
    }
  ]
}