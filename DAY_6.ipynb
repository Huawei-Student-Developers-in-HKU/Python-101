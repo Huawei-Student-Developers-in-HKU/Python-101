{
  "nbformat": 4,
  "nbformat_minor": 0,
  "metadata": {
    "colab": {
      "provenance": [],
      "collapsed_sections": []
    },
    "kernelspec": {
      "name": "python3",
      "display_name": "Python 3"
    },
    "language_info": {
      "name": "python"
    }
  },
  "cells": [
    {
      "cell_type": "markdown",
      "source": [
        "# For Dögüsü\n",
        "````\n",
        "for item in sequence: -> iterable objects\n",
        "    ...\n",
        "    execute expression\n",
        "    ...\n",
        "````\n",
        "\n",
        "sequence :: sıralanmış, dizi\n",
        "\n",
        "For döngüsünün genel kullanım amacı bir dizi değişkenin sırası ile incelenmesi veya işlenmesidir. Bu bir dizi değişken bir listede, sözlükte veya farklı bir döndürülebilir (iterable, içinde birden fazla değer tutan) nesne olabilir. \n",
        "\n",
        "Şimdi Python içerisinde şuana kadar öğrendiğimiz döndürülebilir (iterable) nesneler için for döngüsünğ çalıştıralım\n",
        "\n",
        "````\n",
        "string -> kelime\n",
        "string -> cümle\n",
        "liste\n",
        "set\n",
        "demet\n",
        "sözlük\n",
        "````\n",
        "\n",
        "<b>Not - </b>While döngüleri için kullanılan komutlar (break, continue) for döngüsü için de kullanılabilir"
      ],
      "metadata": {
        "id": "a-dHFOhjSqtD"
      }
    },
    {
      "cell_type": "code",
      "source": [
        "# ITERABLE OBJECTS\n",
        "word = \"Hello\"\n",
        "sentence = \"Hello World!\"\n",
        "liste = [\"Val1\", \"Val2\", \"Val3\"]\n",
        "demet = (1,2,3,4,5)\n",
        "sets = {5,9,8,7}\n",
        "sözlük = {\"key1\":1,\"keys2\":2}"
      ],
      "metadata": {
        "id": "V8UaERIEVmBm"
      },
      "execution_count": null,
      "outputs": []
    },
    {
      "cell_type": "code",
      "source": [
        "for i in word:\n",
        "  print(i)"
      ],
      "metadata": {
        "id": "TeM4HjLRWUFf",
        "colab": {
          "base_uri": "https://localhost:8080/"
        },
        "outputId": "f2b496ca-30b5-4073-f9ad-a11c8012d26c"
      },
      "execution_count": null,
      "outputs": [
        {
          "output_type": "stream",
          "name": "stdout",
          "text": [
            "H\n",
            "e\n",
            "l\n",
            "l\n",
            "o\n"
          ]
        }
      ]
    },
    {
      "cell_type": "code",
      "source": [
        "for i in sentence:\n",
        "  print(i)"
      ],
      "metadata": {
        "id": "tkSAg6UvWX8C",
        "colab": {
          "base_uri": "https://localhost:8080/"
        },
        "outputId": "90081415-f28b-4b6f-c05e-fd1f56843c94"
      },
      "execution_count": null,
      "outputs": [
        {
          "output_type": "stream",
          "name": "stdout",
          "text": [
            "H\n",
            "e\n",
            "l\n",
            "l\n",
            "o\n",
            " \n",
            "W\n",
            "o\n",
            "r\n",
            "l\n",
            "d\n",
            "!\n"
          ]
        }
      ]
    },
    {
      "cell_type": "code",
      "source": [
        "for i in liste:\n",
        "  print(i)"
      ],
      "metadata": {
        "id": "5qKOPu4UWbU1",
        "colab": {
          "base_uri": "https://localhost:8080/"
        },
        "outputId": "292c1662-0cfd-4fae-83d0-be576bc51920"
      },
      "execution_count": null,
      "outputs": [
        {
          "output_type": "stream",
          "name": "stdout",
          "text": [
            "Val1\n",
            "Val2\n",
            "Val3\n"
          ]
        }
      ]
    },
    {
      "cell_type": "code",
      "source": [
        "for i in demet:\n",
        "  print(i)"
      ],
      "metadata": {
        "id": "gAadPoMiWbkw",
        "colab": {
          "base_uri": "https://localhost:8080/"
        },
        "outputId": "4ab08fb0-4da9-4c65-f92c-f8f8cb89a10d"
      },
      "execution_count": null,
      "outputs": [
        {
          "output_type": "stream",
          "name": "stdout",
          "text": [
            "1\n",
            "2\n",
            "3\n",
            "4\n",
            "5\n"
          ]
        }
      ]
    },
    {
      "cell_type": "code",
      "source": [
        "for i in sets:\n",
        "  print(i)"
      ],
      "metadata": {
        "id": "Crobo6E8Wb3M",
        "colab": {
          "base_uri": "https://localhost:8080/"
        },
        "outputId": "53bd4355-4a62-4568-e8f3-7604d6d04461"
      },
      "execution_count": null,
      "outputs": [
        {
          "output_type": "stream",
          "name": "stdout",
          "text": [
            "8\n",
            "9\n",
            "5\n",
            "7\n"
          ]
        }
      ]
    },
    {
      "cell_type": "code",
      "source": [
        "for i in sözlük:\n",
        "  print(i)"
      ],
      "metadata": {
        "id": "JEr_DTGoWcEx",
        "colab": {
          "base_uri": "https://localhost:8080/"
        },
        "outputId": "1b5f5dcf-d72f-46fe-e8b0-021eb9ae85f1"
      },
      "execution_count": null,
      "outputs": [
        {
          "output_type": "stream",
          "name": "stdout",
          "text": [
            "key1\n",
            "keys2\n"
          ]
        }
      ]
    },
    {
      "cell_type": "markdown",
      "source": [
        "## Range\n",
        "For döngüsü ile çokta kullanılan bir diğer komut ise range fonksiyonudur. Bu fonskiyon içerisine belirtilen iki sayı (eğer tek değer girilir ise alt taban 0 alınır) arasındaki tüm sayıları listeler. For döngüsü ile kullanımını özetleyecek olursak eğer :\n",
        "````\n",
        "for num in range(5):\n",
        "  ...\n",
        "  işlemler\n",
        "  ...\n",
        "````\n",
        "şeklinde kullanılır. Range için belirtilen aralıktaki değerleri listeye döker demiştik. O zaman aslında işlem aşağıdaki şekle dönüşmüş olur.\n",
        "````\n",
        "for num in [0,1,2,3,4]:\n",
        "  ...\n",
        "  işlemler\n",
        "  ...\n",
        "````\n",
        "Yani daha önce for döngüsü ile kullandığımız liste değişkeninden bir farkı yok.\n",
        "\n",
        "\n"
      ],
      "metadata": {
        "id": "EYPQmRTgW5JB"
      }
    },
    {
      "cell_type": "code",
      "execution_count": null,
      "metadata": {
        "id": "1DPHu82zSnh1",
        "colab": {
          "base_uri": "https://localhost:8080/"
        },
        "outputId": "8af9ed6c-c2d7-4bad-a5da-04a0e3c41de7"
      },
      "outputs": [
        {
          "output_type": "stream",
          "name": "stdout",
          "text": [
            "0\n",
            "1\n",
            "2\n",
            "3\n",
            "4\n"
          ]
        }
      ],
      "source": [
        "for num in range(5):\n",
        "  print(num)"
      ]
    },
    {
      "cell_type": "code",
      "source": [
        "for num in range(9,21):\n",
        "  print(num)"
      ],
      "metadata": {
        "id": "iKHmaAw1W7JC",
        "colab": {
          "base_uri": "https://localhost:8080/"
        },
        "outputId": "f9773866-3825-4d95-dc9d-4b3dab3ff6ca"
      },
      "execution_count": null,
      "outputs": [
        {
          "output_type": "stream",
          "name": "stdout",
          "text": [
            "9\n",
            "10\n",
            "11\n",
            "12\n",
            "13\n",
            "14\n",
            "15\n",
            "16\n",
            "17\n",
            "18\n",
            "19\n",
            "20\n"
          ]
        }
      ]
    },
    {
      "cell_type": "code",
      "source": [
        "for num in range(0,20,2): # 3.değer kaçar kaçar gideceğini belirtir\n",
        "  print(num)"
      ],
      "metadata": {
        "id": "TD0gaKiTW-YM",
        "colab": {
          "base_uri": "https://localhost:8080/"
        },
        "outputId": "fb23a7bf-e00c-4cc6-c109-7702739b511d"
      },
      "execution_count": null,
      "outputs": [
        {
          "output_type": "stream",
          "name": "stdout",
          "text": [
            "0\n",
            "2\n",
            "4\n",
            "6\n",
            "8\n",
            "10\n",
            "12\n",
            "14\n",
            "16\n",
            "18\n"
          ]
        }
      ]
    },
    {
      "cell_type": "markdown",
      "source": [
        "### TASK 1 :: Liste içerisindeki tüm sayıları toplayın"
      ],
      "metadata": {
        "id": "telylhIFFNpr"
      }
    },
    {
      "cell_type": "code",
      "source": [],
      "metadata": {
        "id": "GIfQHARYFTtY"
      },
      "execution_count": null,
      "outputs": []
    },
    {
      "cell_type": "markdown",
      "source": [
        "### TASK 2 :: Liste içerisindeki çift sayıları toplayın"
      ],
      "metadata": {
        "id": "qa1VpOsOFTEX"
      }
    },
    {
      "cell_type": "code",
      "source": [],
      "metadata": {
        "id": "92G-ENVFFZ65"
      },
      "execution_count": null,
      "outputs": []
    },
    {
      "cell_type": "markdown",
      "source": [
        "### TASK 3 :: Liste içerisindeki çift sayı adedini bulun"
      ],
      "metadata": {
        "id": "ENIJahTzFaf4"
      }
    },
    {
      "cell_type": "code",
      "source": [],
      "metadata": {
        "id": "0OylwbS8Fjfg"
      },
      "execution_count": null,
      "outputs": []
    },
    {
      "cell_type": "markdown",
      "source": [
        "### TASK 4 :: Liste içerisindeki çift sayıları farklı bir listeye kaydedin"
      ],
      "metadata": {
        "id": "n0s7PYl_Fjya"
      }
    },
    {
      "cell_type": "code",
      "source": [],
      "metadata": {
        "id": "ODl4B912Fpa2"
      },
      "execution_count": null,
      "outputs": []
    },
    {
      "cell_type": "markdown",
      "source": [
        "### TASK 5 :: Bir sözlüğün değerlerini (values) for ile yazdırın"
      ],
      "metadata": {
        "id": "BOa9O9XkFpwS"
      }
    },
    {
      "cell_type": "code",
      "source": [],
      "metadata": {
        "id": "4U7bzCeLFzpx"
      },
      "execution_count": null,
      "outputs": []
    }
  ]
}