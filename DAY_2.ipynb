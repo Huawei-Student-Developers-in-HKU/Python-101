{
  "nbformat": 4,
  "nbformat_minor": 0,
  "metadata": {
    "colab": {
      "provenance": [],
      "collapsed_sections": []
    },
    "kernelspec": {
      "name": "python3",
      "display_name": "Python 3"
    },
    "language_info": {
      "name": "python"
    }
  },
  "cells": [
    {
      "cell_type": "markdown",
      "source": [
        "# Karar Yapıları\n",
        "Karar yaıpıları belirlediğiniz durumum veya durumların sağlanması ile belirtlen işlerin/komutların çalışmasını sağlayan yapılardır. Örneğin eğer x doğru ise a işlemini yap eğer y doğru ise b işlemini yap şeklinde de örneklendirebiliriz.\n",
        "\n",
        "Bunun dışında karşılaştırma için kullandığımız sembollerimiz vardır. Bunlar eşittir, eşit değildir, büyüktür, küçüktür, büyük veya eşittir ve küçük veya eşittir. \n",
        "````\n",
        "==  eşittir\n",
        "!=  eşit değildir\n",
        "\n",
        "<   küçüktür \n",
        ">   büyüktür\n",
        "\n",
        "<=  küçük veya eşit\n",
        ">=  büyük veya eşit\n",
        "````\n",
        "\n",
        "\" Eğer neden eşittirin sembolünün çift eşittir olduğunu merak ediyorsanız bunun sebebi  tek eşittir değişkenler ve değerler arasında eşitlik yapılması için zaten kullanılıyor olmasıdır. \"\n",
        "\n",
        "\n",
        "Şimdi karar yapılarında kullanılan anatar kelimelere gelelim. if, elif ve else. Bu üçü bir karar yapısını bundan sonra karar bloğu diyeceğim oluşturulmasını sağlarlar. Örneğin if ve else ile negatif ve pozitif sayıları ayıran bir sistem tasarlayalım.\n"
      ],
      "metadata": {
        "id": "oBBbnZP10Yb-"
      }
    },
    {
      "cell_type": "code",
      "source": [
        "num = int(input(\"> \"))\n",
        "\n",
        "if num>0 :\n",
        "  print(\"Pozitif\")\n",
        "\n",
        "else:\n",
        "  print(\"Negatif\")"
      ],
      "metadata": {
        "id": "FsQfY6vu2Iaa"
      },
      "execution_count": null,
      "outputs": []
    },
    {
      "cell_type": "markdown",
      "source": [
        "Burada fark etmiş olacağınız givi bazı satırlar daha içeride duruyor. Bunu yapma sebebi Python'a eğer doğru ise yapmasını istediklerimizi belirtmemiz.\n",
        "\n",
        "Python dilinde bir karar yapısından sonra yapılmasını istediklerimiz kara yapısınınbaşlangıcından 4 boşluk (1 tab) içerde yazılmalıdır. Böylece program kesinlikler yapması gereken ve eğer şart sağlanırsa yapılması gerekenleri ayırt edebilir.\n",
        "\n"
      ],
      "metadata": {
        "id": "kU0p_Flx2SIB"
      }
    },
    {
      "cell_type": "code",
      "source": [
        "num = 5\n",
        "\n",
        "if num == 5:\n",
        "  print(\"Eşitlik doğru ise yapılacak\")\n",
        "\n",
        "print(\"Kesin yapılacak\")"
      ],
      "metadata": {
        "id": "GU-9qYH_3ljY"
      },
      "execution_count": null,
      "outputs": []
    },
    {
      "cell_type": "markdown",
      "source": [
        "Eğer if içinde if kullanırsak eğer :"
      ],
      "metadata": {
        "id": "rAM6MmX_3lsF"
      }
    },
    {
      "cell_type": "code",
      "source": [
        "name = \"hi\"\n",
        "\n",
        "if name == \"hi\":\n",
        "  if name != \"hello\":\n",
        "    print(\"2.Eşitlik doğrus ise yapılacak\")\n",
        "\n",
        "  print(\"1.Eşitlik doğru ise yapılacak\")\n",
        "\n",
        "print(\"Bu kesin olarak yapılacak\")"
      ],
      "metadata": {
        "id": "DEeYK0hN2Ry9"
      },
      "execution_count": null,
      "outputs": []
    },
    {
      "cell_type": "markdown",
      "source": [
        "if, eğer anlamını taşır ve bir kara bloğunun başlangıcıdır. if ile yazılan tüm şartlar program tarafından kesinlik ile kontrol edilir.  \n",
        "\n",
        "else, değil ise anlamını taşır. Karar bloğundaki diğer şartlar değil ise şeklinde kullanılır ve en son yazılabilir. Bu özelliği ile karar karar bloğunu sonlandırmak için kullanılır. \n",
        "\n",
        "Kara blokları else ile veya yeni bir if ile sonlanabilir."
      ],
      "metadata": {
        "id": "4oi0eNON33LJ"
      }
    },
    {
      "cell_type": "code",
      "source": [
        "num = int(input(\"> \"))\n",
        "\n",
        "if num > 10:          # eğer num değişkeni büyükse 10'dan\n",
        "  print(\"Büyük\")\n",
        "\n",
        "else:                 # değil ise \n",
        "  print(\"Küçük\")"
      ],
      "metadata": {
        "id": "aXhQIroV32y_"
      },
      "execution_count": null,
      "outputs": []
    },
    {
      "cell_type": "markdown",
      "source": [
        "Görüldüğü gibi else komutu değil ise anlamı taşıdığı için herhangi bir eşitlik belirtmek gerekmez.\n",
        "\n",
        "Bunlar dışına bloğu kırmadan yeni olasılıklar yazmamızı sağlayan elif (else if kısaltması) vardır. Kullanımı if ile aynı olup if'ten sonra farklı olasılıkları sorgulamak ile kullanılır. if'ten en önemli farkı eğer kendinden önceki if veya elif soğru ise program tarafından kontrol edilmez. Böylece zamandan kazanmış oluruz."
      ],
      "metadata": {
        "id": "QfNN1mMP42bh"
      }
    },
    {
      "cell_type": "code",
      "source": [
        "a = 50\n",
        "\n",
        "if a == 20:\n",
        "  print(\"value of variable a is 20”)\n",
        "\n",
        "elif a == 30:\n",
        "  print(\"value of variable a is 30”)\n",
        "\n",
        "elif a == 40:\n",
        "  print(\"value of variable a is 40”)\n",
        "\n",
        "else:\n",
        "  print(\"value of variable a is greater than 40”)\n"
      ],
      "metadata": {
        "id": "j_KY_8KH5oDu"
      },
      "execution_count": null,
      "outputs": []
    },
    {
      "cell_type": "markdown",
      "source": [
        "Şekli örnek bir kullanımdır. Sadece if'lerden oluşan bir karar yapısı ve elif'lerden oluşan bir kara yapısının çalışma zamanını karılaştıracak olursak eğer :"
      ],
      "metadata": {
        "id": "IjV91uBz50hv"
      }
    },
    {
      "cell_type": "code",
      "source": [
        "import time\n",
        "start = time.time()\n",
        "\n",
        "a = 20\n",
        "\n",
        "if a == 20:\n",
        "  print(\"value of variable a is 20\")\n",
        "\n",
        "elif a == 30:\n",
        "  print(\"value of variable a is 30\")\n",
        "\n",
        "elif a == 40:\n",
        "  print(\"value of variable a is 40\")\n",
        "\n",
        "else:\n",
        "  print(\"value of variable a is greater than 40\")\n",
        "\n",
        "end = time.time()\n",
        "print(\"The time of execution of above program is :\",\n",
        "      (end-start) * 10**3, \"ms\")"
      ],
      "metadata": {
        "colab": {
          "base_uri": "https://localhost:8080/"
        },
        "id": "LdyIQbT86TUk",
        "outputId": "542cfb83-1166-4272-abc4-4750674ee5a3"
      },
      "execution_count": null,
      "outputs": [
        {
          "output_type": "stream",
          "name": "stdout",
          "text": [
            "value of variable a is 20\n",
            "The time of execution of above program is : 1.0995864868164062 ms\n"
          ]
        }
      ]
    },
    {
      "cell_type": "code",
      "source": [
        "import time\n",
        "start = time.time()\n",
        "\n",
        "a = 20\n",
        "\n",
        "if a == 20:\n",
        "  print(\"value of variable a is 20\")\n",
        "\n",
        "if a == 30:\n",
        "  print(\"value of variable a is 30\")\n",
        "\n",
        "if a == 40:\n",
        "  print(\"value of variable a is 40\")\n",
        "\n",
        "else:\n",
        "  print(\"value of variable a is greater than 40\")\n",
        "\n",
        "end = time.time()\n",
        "print(\"The time of execution of above program is :\",\n",
        "      (end-start) * 10**3, \"ms\")"
      ],
      "metadata": {
        "colab": {
          "base_uri": "https://localhost:8080/"
        },
        "id": "gv3mT9-Q6V7m",
        "outputId": "ac3da9c8-b47e-4370-8874-f4432e2f0ea0"
      },
      "execution_count": null,
      "outputs": [
        {
          "output_type": "stream",
          "name": "stdout",
          "text": [
            "value of variable a is 20\n",
            "value of variable a is greater than 40\n",
            "The time of execution of above program is : 4.489660263061523 ms\n"
          ]
        }
      ]
    },
    {
      "cell_type": "markdown",
      "source": [
        "Devam edecek olursak eğer karar yapıları ile ilgili bilmeniz gerekn son şey \" and \" ve \" or \" bağlaçlarıdır. Bunlar bir karar ifadesinde birden fazla olasılığı değerlendirmemizi sağlar. \n",
        "\n",
        "````\n",
        "if num1 == num2 and num3<num4:\n",
        "````\n",
        "\n",
        "Şeklinde yazdığımızda çalışması için hem ilk eşitlik (num1 == num2) hem de ikinci eşitliğin (num3<num4) doğru olması gerekmektedir.\n",
        "\n",
        "````\n",
        "if num1 == num2 or num3<num4:\n",
        "````\n",
        "Öteyandan aynı eşitlik or ile yazılırsa çalışması için ilk eşitliğin doğru - ikinci eşitliğin yanlış veya ilk eştliğin yanlış - ikinci eşitliğin doğru veya her ikisinin de doğru olması gereklidir.\n",
        "\n",
        "\n",
        "and ve or arasındaki farkı akıllarında tutamayanlar için markete gidin, bir çikolata ve meyve suyu alın dense marketen alacakları ve bir çikolata veya bir meyve suyu alın dense marketten alacakları şeyleri seçmeleri ile aynı mantığa sahiptir."
      ],
      "metadata": {
        "id": "0Zza68jU6xeq"
      }
    },
    {
      "cell_type": "code",
      "source": [
        "num1 = 5\n",
        "num2 = 0\n",
        "\n",
        "if num1 == 5 and num2 == 0:\n",
        "  print(\"1\")"
      ],
      "metadata": {
        "id": "1JoF3fO0-csg"
      },
      "execution_count": null,
      "outputs": []
    },
    {
      "cell_type": "code",
      "source": [
        "num1 = 5\n",
        "num2 = 0\n",
        "\n",
        "if num1 == 5 and num2 == 3:\n",
        "  print(\"1\")\n",
        "\n",
        "if num1 == 5 or num2 == 3:\n",
        "  print(\"2\")"
      ],
      "metadata": {
        "id": "1HnoJILD7Czy"
      },
      "execution_count": null,
      "outputs": []
    }
  ]
}