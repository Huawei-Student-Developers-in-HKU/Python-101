{
  "nbformat": 4,
  "nbformat_minor": 0,
  "metadata": {
    "colab": {
      "provenance": []
    },
    "kernelspec": {
      "name": "python3",
      "display_name": "Python 3"
    },
    "language_info": {
      "name": "python"
    }
  },
  "cells": [
    {
      "cell_type": "markdown",
      "source": [
        "# Fonksiyonlar\n",
        "\n",
        "Yazdığımız bir python uygulamasındaki belli bir kod parçasını bir kaç yerde kullanma ihtiyacı duyduğumuzda fonksiyon oluşturmak işlerimizi kolaylaştırır. Böyle durumlarda sürekli kullanacak olduğumuz kod satırlarını fonksiyonlar içine alıp istediğimiz zaman çağırıp çalıştırabiliriz.\n",
        "\n",
        "````\n",
        "def fonksiyon_ismi(parametre1, parametre2, ...):\n",
        "  ...\n",
        "  fonksiyonun yapacağı işlemler\n",
        "  ...\n",
        "````\n",
        "\n",
        "Bir fonksiyonun hazırlanma şekli yukarıdaki gibidir. def anahtar kelimesi fonskiyon oluşturma anahtar kelimesidir. def kelimesinden sonra fonksiyonun ismi (değişken oluşturma kuralları ismi oluştururken geçerlidir) ve parantezler gelir. Eğer fonsksiyonunuz çalışmak için dışarıdan bir değere ihtiyaç duyuyor ise bu parantezler içerisine istenilen değerleri temsil eden anahtar kelimler girilir.\n",
        "\n",
        "\n",
        "İlk fonskiyonumuzu hazrılayalım. Fonksiyonumuzudan istediğimiz çağırıldğı zaman \"Hello World\" yazdırması."
      ],
      "metadata": {
        "id": "EWUBG2BK4Vh0"
      }
    },
    {
      "cell_type": "code",
      "source": [
        "def fonksiyon():\n",
        "  # Fonksiyonun yapmasını istediğiniz şeyleri yazın\n",
        "  print(\"Hello World\")"
      ],
      "metadata": {
        "id": "8SsVBf7X5BYY"
      },
      "execution_count": null,
      "outputs": []
    },
    {
      "cell_type": "code",
      "source": [
        "# Fonksiyonu çağıralım\n",
        "fonksiyon()"
      ],
      "metadata": {
        "colab": {
          "base_uri": "https://localhost:8080/"
        },
        "id": "SMkrquBl6P3-",
        "outputId": "2e2de99b-9f53-41f2-9b95-de597b9b11e7"
      },
      "execution_count": null,
      "outputs": [
        {
          "output_type": "stream",
          "name": "stdout",
          "text": [
            "Hello World\n"
          ]
        }
      ]
    },
    {
      "cell_type": "markdown",
      "source": [
        "Şimdi daha önce bahsettiğimiz fonksiyonun dışarıdan değer alması işlemine geçelim. Dışarıdan istenilen değerlere parametre denir ve fonksiyon tanımlanırken parantezin içersinde tanımlanırlar. Tanımlandıktan sonra fonksiyon içerisinde normal değişken olarak kullanılabilirler.\n",
        "\n",
        "Örneğin kullanıcı adını alan ve \"Hello kullanıcı_adı\" yazdıran bir fonksiyon hazırlayacak olursak."
      ],
      "metadata": {
        "id": "gZri_jCe6ZhP"
      }
    },
    {
      "cell_type": "code",
      "source": [
        "def fonksiyon(isim):\n",
        "  print(\"Hello\", isim)"
      ],
      "metadata": {
        "id": "l6RhVOXv6ZP7"
      },
      "execution_count": null,
      "outputs": []
    },
    {
      "cell_type": "markdown",
      "source": [
        "Artık bu fonksiyonu çağırdığımızda içerisine bir isim parametresi girmemiz gerekmektedir. Aksi halde program çalışmayacak hata verecektir. "
      ],
      "metadata": {
        "id": "3fUrCNL269Y-"
      }
    },
    {
      "cell_type": "code",
      "source": [
        "fonksiyon(\"HSD\")"
      ],
      "metadata": {
        "colab": {
          "base_uri": "https://localhost:8080/"
        },
        "id": "3AUq9_Mp7IKZ",
        "outputId": "8e1ca3e6-c3f4-43f9-93b1-888d6a7435d6"
      },
      "execution_count": null,
      "outputs": [
        {
          "output_type": "stream",
          "name": "stdout",
          "text": [
            "Hello HSD\n"
          ]
        }
      ]
    },
    {
      "cell_type": "markdown",
      "source": [
        "Aslında şuana kadar kullandığımız print(), input(), int(), ... gibi bir çok komutta birere fonksiyon idi. Hepsi kendi parametrelerine sahip Python için hazırlanmış fonksiyonlar. Artık sizlerde kendi fonksiyonlarınız yapabildiğinize göre biraz alıştıma yapalım.\n",
        "\n"
      ],
      "metadata": {
        "id": "u7H_aCJA7Nqb"
      }
    },
    {
      "cell_type": "markdown",
      "source": [
        "## TASK :: Tek - Çift Ayıran Fonksiyon"
      ],
      "metadata": {
        "id": "GviXUH2y70XN"
      }
    },
    {
      "cell_type": "code",
      "source": [],
      "metadata": {
        "id": "fFBeS7J776BN"
      },
      "execution_count": null,
      "outputs": []
    },
    {
      "cell_type": "markdown",
      "source": [
        "## TASK :: BMI Hesaplayan Fonksiyon \n",
        "( vücut ağırlığının boy uzunluğunun karesine bölünmesiyle (kg/m²) hesaplanır.)"
      ],
      "metadata": {
        "id": "F3_qe-r-77nR"
      }
    },
    {
      "cell_type": "code",
      "source": [],
      "metadata": {
        "id": "ZMaewfJt78CO"
      },
      "execution_count": null,
      "outputs": []
    },
    {
      "cell_type": "markdown",
      "source": [
        "## Return\n",
        "Return kelimesi türkçe anlamı ile dönmek, döndürmektir. Fonksiyon içersindeki görevi ise fonksiyon sonunda fonksiyon içerisinde hesaplanan değeri dışarıya (fonksiyonun çağırılıdığı kod satırına) döndürmesidir. Kullanımından bahsedecek olursak eğer :\n",
        "````\n",
        "def fonksiyon(parametre1, parametre2, . . . ):\n",
        "  ...\n",
        "  işlemler\n",
        "  ....\n",
        "  return sonuç\n",
        "\n",
        "değer = fonskiyon() # fonksiyonu çağırıyoruz\n",
        "````\n",
        "Burada return edilen sonuç değeri fonksiyonun çağırıldığı satıra döndürüldü ve kod aşağıdaki hale geldi.\n",
        "````\n",
        "değer = sonuç\n",
        "````\n",
        "Bu şekilde fonskiyon içerisinde hesaplanan değeri fonskiyon dışında bir değişkene eşitledik ve artık kullanmaya devam edebiliriz. \n",
        "\n",
        "Bir örnek yapacak olursak eğer . . ."
      ],
      "metadata": {
        "id": "pxLgmzys8PP8"
      }
    },
    {
      "cell_type": "code",
      "source": [
        "def yazdır(kelime, adet):\n",
        "  cümle = kelime*adet\n",
        "  return cümle"
      ],
      "metadata": {
        "id": "njO-iJlL9anF"
      },
      "execution_count": null,
      "outputs": []
    },
    {
      "cell_type": "code",
      "source": [
        "cümle = yazdır(\"HSD\", 30)\n",
        "print(cümle)"
      ],
      "metadata": {
        "colab": {
          "base_uri": "https://localhost:8080/"
        },
        "id": "pkcysDfw910O",
        "outputId": "1824ce60-0796-4c06-cf8b-978981abdd48"
      },
      "execution_count": null,
      "outputs": [
        {
          "output_type": "stream",
          "name": "stdout",
          "text": [
            "HSDHSDHSDHSDHSDHSDHSDHSDHSDHSDHSDHSDHSDHSDHSDHSDHSDHSDHSDHSDHSDHSDHSDHSDHSDHSDHSDHSDHSDHSD\n"
          ]
        }
      ]
    },
    {
      "cell_type": "markdown",
      "source": [
        "Tabiki bunu kelime odaklı yapmak yerine dah çok sayısal değer döndüren fonskyonlar hazırlanır yada True/False değeri dönsüren fonksiyonlar. Eğer fonsksiyonunuz verilen parametrelere göre kara veriyor. \n",
        "\n",
        "<b>TASK :: daha önce hazırladığınızfonskiyonları return komutu ile güncelleyin</b>\n",
        "\n",
        "Fonksiyonlar ile çalışılmasının asıl ve en büyük sebebi ilerleyen dönemlerde birden fazla kişi bir proje üzerinde çalışırken herkesin çalışmasını birleştirebilmektir. \n",
        "\n",
        "Şimdi buna göre bir çalışma yapacağız. 4 işlem yapabilen bir fonksiyon hazırlayacaksınız. Bu programın yapacağı matematiksel işlemler fonksiyon olarak hazırlanacak ve takım üyeleri arasında bölünecek."
      ],
      "metadata": {
        "id": "WSkfrG_j9_gM"
      }
    },
    {
      "cell_type": "code",
      "source": [
        "# PROJE"
      ],
      "metadata": {
        "id": "mKc0XSIxC6KB"
      },
      "execution_count": null,
      "outputs": []
    }
  ]
}